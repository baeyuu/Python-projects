{
 "cells": [
  {
   "cell_type": "code",
   "execution_count": 1,
   "metadata": {},
   "outputs": [],
   "source": [
    "import pandas as pd\n",
    "import numpy as np\n",
    "import seaborn as sns\n",
    "import matplotlib.pyplot as plt\n",
    "\n",
    "sns.set_style('whitegrid')"
   ]
  },
  {
   "cell_type": "code",
   "execution_count": 2,
   "metadata": {},
   "outputs": [],
   "source": [
    "df = pd.read_csv('train_data.csv', index_col='Customer Id')"
   ]
  },
  {
   "cell_type": "code",
   "execution_count": 3,
   "metadata": {},
   "outputs": [
    {
     "data": {
      "text/html": [
       "<div>\n",
       "<style scoped>\n",
       "    .dataframe tbody tr th:only-of-type {\n",
       "        vertical-align: middle;\n",
       "    }\n",
       "\n",
       "    .dataframe tbody tr th {\n",
       "        vertical-align: top;\n",
       "    }\n",
       "\n",
       "    .dataframe thead th {\n",
       "        text-align: right;\n",
       "    }\n",
       "</style>\n",
       "<table border=\"1\" class=\"dataframe\">\n",
       "  <thead>\n",
       "    <tr style=\"text-align: right;\">\n",
       "      <th></th>\n",
       "      <th>YearOfObservation</th>\n",
       "      <th>Insured_Period</th>\n",
       "      <th>Residential</th>\n",
       "      <th>Building_Painted</th>\n",
       "      <th>Building_Fenced</th>\n",
       "      <th>Garden</th>\n",
       "      <th>Settlement</th>\n",
       "      <th>Building Dimension</th>\n",
       "      <th>Building_Type</th>\n",
       "      <th>Date_of_Occupancy</th>\n",
       "      <th>NumberOfWindows</th>\n",
       "      <th>Geo_Code</th>\n",
       "      <th>Claim</th>\n",
       "    </tr>\n",
       "    <tr>\n",
       "      <th>Customer Id</th>\n",
       "      <th></th>\n",
       "      <th></th>\n",
       "      <th></th>\n",
       "      <th></th>\n",
       "      <th></th>\n",
       "      <th></th>\n",
       "      <th></th>\n",
       "      <th></th>\n",
       "      <th></th>\n",
       "      <th></th>\n",
       "      <th></th>\n",
       "      <th></th>\n",
       "      <th></th>\n",
       "    </tr>\n",
       "  </thead>\n",
       "  <tbody>\n",
       "    <tr>\n",
       "      <th>H14663</th>\n",
       "      <td>2013</td>\n",
       "      <td>1.000000</td>\n",
       "      <td>0</td>\n",
       "      <td>N</td>\n",
       "      <td>V</td>\n",
       "      <td>V</td>\n",
       "      <td>U</td>\n",
       "      <td>290.0</td>\n",
       "      <td>1</td>\n",
       "      <td>1960.0</td>\n",
       "      <td>.</td>\n",
       "      <td>1053</td>\n",
       "      <td>0</td>\n",
       "    </tr>\n",
       "    <tr>\n",
       "      <th>H2037</th>\n",
       "      <td>2015</td>\n",
       "      <td>1.000000</td>\n",
       "      <td>0</td>\n",
       "      <td>V</td>\n",
       "      <td>N</td>\n",
       "      <td>O</td>\n",
       "      <td>R</td>\n",
       "      <td>490.0</td>\n",
       "      <td>1</td>\n",
       "      <td>1850.0</td>\n",
       "      <td>4</td>\n",
       "      <td>1053</td>\n",
       "      <td>0</td>\n",
       "    </tr>\n",
       "    <tr>\n",
       "      <th>H3802</th>\n",
       "      <td>2014</td>\n",
       "      <td>1.000000</td>\n",
       "      <td>0</td>\n",
       "      <td>N</td>\n",
       "      <td>V</td>\n",
       "      <td>V</td>\n",
       "      <td>U</td>\n",
       "      <td>595.0</td>\n",
       "      <td>1</td>\n",
       "      <td>1960.0</td>\n",
       "      <td>.</td>\n",
       "      <td>1053</td>\n",
       "      <td>0</td>\n",
       "    </tr>\n",
       "    <tr>\n",
       "      <th>H3834</th>\n",
       "      <td>2013</td>\n",
       "      <td>1.000000</td>\n",
       "      <td>0</td>\n",
       "      <td>V</td>\n",
       "      <td>V</td>\n",
       "      <td>V</td>\n",
       "      <td>U</td>\n",
       "      <td>2840.0</td>\n",
       "      <td>1</td>\n",
       "      <td>1960.0</td>\n",
       "      <td>.</td>\n",
       "      <td>1053</td>\n",
       "      <td>0</td>\n",
       "    </tr>\n",
       "    <tr>\n",
       "      <th>H5053</th>\n",
       "      <td>2014</td>\n",
       "      <td>1.000000</td>\n",
       "      <td>0</td>\n",
       "      <td>V</td>\n",
       "      <td>N</td>\n",
       "      <td>O</td>\n",
       "      <td>R</td>\n",
       "      <td>680.0</td>\n",
       "      <td>1</td>\n",
       "      <td>1800.0</td>\n",
       "      <td>3</td>\n",
       "      <td>1053</td>\n",
       "      <td>0</td>\n",
       "    </tr>\n",
       "    <tr>\n",
       "      <th>H4977</th>\n",
       "      <td>2012</td>\n",
       "      <td>1.000000</td>\n",
       "      <td>0</td>\n",
       "      <td>V</td>\n",
       "      <td>N</td>\n",
       "      <td>O</td>\n",
       "      <td>R</td>\n",
       "      <td>535.0</td>\n",
       "      <td>1</td>\n",
       "      <td>1980.0</td>\n",
       "      <td>3</td>\n",
       "      <td>1143</td>\n",
       "      <td>0</td>\n",
       "    </tr>\n",
       "    <tr>\n",
       "      <th>H7390</th>\n",
       "      <td>2012</td>\n",
       "      <td>1.000000</td>\n",
       "      <td>0</td>\n",
       "      <td>N</td>\n",
       "      <td>V</td>\n",
       "      <td>V</td>\n",
       "      <td>U</td>\n",
       "      <td>2830.0</td>\n",
       "      <td>1</td>\n",
       "      <td>1988.0</td>\n",
       "      <td>.</td>\n",
       "      <td>1143</td>\n",
       "      <td>0</td>\n",
       "    </tr>\n",
       "    <tr>\n",
       "      <th>H14488</th>\n",
       "      <td>2015</td>\n",
       "      <td>1.000000</td>\n",
       "      <td>0</td>\n",
       "      <td>N</td>\n",
       "      <td>V</td>\n",
       "      <td>V</td>\n",
       "      <td>U</td>\n",
       "      <td>4952.0</td>\n",
       "      <td>1</td>\n",
       "      <td>1988.0</td>\n",
       "      <td>.</td>\n",
       "      <td>1160</td>\n",
       "      <td>0</td>\n",
       "    </tr>\n",
       "    <tr>\n",
       "      <th>H19355</th>\n",
       "      <td>2014</td>\n",
       "      <td>1.000000</td>\n",
       "      <td>0</td>\n",
       "      <td>V</td>\n",
       "      <td>N</td>\n",
       "      <td>O</td>\n",
       "      <td>R</td>\n",
       "      <td>2735.0</td>\n",
       "      <td>1</td>\n",
       "      <td>2013.0</td>\n",
       "      <td>3</td>\n",
       "      <td>1173</td>\n",
       "      <td>1</td>\n",
       "    </tr>\n",
       "    <tr>\n",
       "      <th>H18601</th>\n",
       "      <td>2015</td>\n",
       "      <td>1.000000</td>\n",
       "      <td>0</td>\n",
       "      <td>V</td>\n",
       "      <td>N</td>\n",
       "      <td>O</td>\n",
       "      <td>R</td>\n",
       "      <td>520.0</td>\n",
       "      <td>1</td>\n",
       "      <td>2011.0</td>\n",
       "      <td>2</td>\n",
       "      <td>1224</td>\n",
       "      <td>0</td>\n",
       "    </tr>\n",
       "    <tr>\n",
       "      <th>H18177</th>\n",
       "      <td>2013</td>\n",
       "      <td>0.241096</td>\n",
       "      <td>0</td>\n",
       "      <td>V</td>\n",
       "      <td>N</td>\n",
       "      <td>O</td>\n",
       "      <td>R</td>\n",
       "      <td>550.0</td>\n",
       "      <td>1</td>\n",
       "      <td>1960.0</td>\n",
       "      <td>3</td>\n",
       "      <td>1283</td>\n",
       "      <td>0</td>\n",
       "    </tr>\n",
       "    <tr>\n",
       "      <th>H356</th>\n",
       "      <td>2013</td>\n",
       "      <td>1.000000</td>\n",
       "      <td>0</td>\n",
       "      <td>V</td>\n",
       "      <td>V</td>\n",
       "      <td>V</td>\n",
       "      <td>U</td>\n",
       "      <td>910.0</td>\n",
       "      <td>1</td>\n",
       "      <td>1960.0</td>\n",
       "      <td>.</td>\n",
       "      <td>1283</td>\n",
       "      <td>0</td>\n",
       "    </tr>\n",
       "    <tr>\n",
       "      <th>H15676</th>\n",
       "      <td>2013</td>\n",
       "      <td>1.000000</td>\n",
       "      <td>0</td>\n",
       "      <td>V</td>\n",
       "      <td>N</td>\n",
       "      <td>O</td>\n",
       "      <td>R</td>\n",
       "      <td>842.0</td>\n",
       "      <td>1</td>\n",
       "      <td>1550.0</td>\n",
       "      <td>4</td>\n",
       "      <td>1305</td>\n",
       "      <td>0</td>\n",
       "    </tr>\n",
       "    <tr>\n",
       "      <th>H19442</th>\n",
       "      <td>2014</td>\n",
       "      <td>0.843836</td>\n",
       "      <td>0</td>\n",
       "      <td>V</td>\n",
       "      <td>N</td>\n",
       "      <td>O</td>\n",
       "      <td>R</td>\n",
       "      <td>300.0</td>\n",
       "      <td>1</td>\n",
       "      <td>1900.0</td>\n",
       "      <td>2</td>\n",
       "      <td>1305</td>\n",
       "      <td>0</td>\n",
       "    </tr>\n",
       "    <tr>\n",
       "      <th>H14635</th>\n",
       "      <td>2012</td>\n",
       "      <td>1.000000</td>\n",
       "      <td>0</td>\n",
       "      <td>N</td>\n",
       "      <td>V</td>\n",
       "      <td>V</td>\n",
       "      <td>U</td>\n",
       "      <td>560.0</td>\n",
       "      <td>1</td>\n",
       "      <td>1960.0</td>\n",
       "      <td>.</td>\n",
       "      <td>1363</td>\n",
       "      <td>0</td>\n",
       "    </tr>\n",
       "  </tbody>\n",
       "</table>\n",
       "</div>"
      ],
      "text/plain": [
       "             YearOfObservation  Insured_Period  Residential Building_Painted  \\\n",
       "Customer Id                                                                    \n",
       "H14663                    2013        1.000000            0                N   \n",
       "H2037                     2015        1.000000            0                V   \n",
       "H3802                     2014        1.000000            0                N   \n",
       "H3834                     2013        1.000000            0                V   \n",
       "H5053                     2014        1.000000            0                V   \n",
       "H4977                     2012        1.000000            0                V   \n",
       "H7390                     2012        1.000000            0                N   \n",
       "H14488                    2015        1.000000            0                N   \n",
       "H19355                    2014        1.000000            0                V   \n",
       "H18601                    2015        1.000000            0                V   \n",
       "H18177                    2013        0.241096            0                V   \n",
       "H356                      2013        1.000000            0                V   \n",
       "H15676                    2013        1.000000            0                V   \n",
       "H19442                    2014        0.843836            0                V   \n",
       "H14635                    2012        1.000000            0                N   \n",
       "\n",
       "            Building_Fenced Garden Settlement  Building Dimension  \\\n",
       "Customer Id                                                         \n",
       "H14663                    V      V          U               290.0   \n",
       "H2037                     N      O          R               490.0   \n",
       "H3802                     V      V          U               595.0   \n",
       "H3834                     V      V          U              2840.0   \n",
       "H5053                     N      O          R               680.0   \n",
       "H4977                     N      O          R               535.0   \n",
       "H7390                     V      V          U              2830.0   \n",
       "H14488                    V      V          U              4952.0   \n",
       "H19355                    N      O          R              2735.0   \n",
       "H18601                    N      O          R               520.0   \n",
       "H18177                    N      O          R               550.0   \n",
       "H356                      V      V          U               910.0   \n",
       "H15676                    N      O          R               842.0   \n",
       "H19442                    N      O          R               300.0   \n",
       "H14635                    V      V          U               560.0   \n",
       "\n",
       "             Building_Type  Date_of_Occupancy NumberOfWindows Geo_Code  Claim  \n",
       "Customer Id                                                                    \n",
       "H14663                   1             1960.0               .     1053      0  \n",
       "H2037                    1             1850.0               4     1053      0  \n",
       "H3802                    1             1960.0               .     1053      0  \n",
       "H3834                    1             1960.0               .     1053      0  \n",
       "H5053                    1             1800.0               3     1053      0  \n",
       "H4977                    1             1980.0               3     1143      0  \n",
       "H7390                    1             1988.0               .     1143      0  \n",
       "H14488                   1             1988.0               .     1160      0  \n",
       "H19355                   1             2013.0               3     1173      1  \n",
       "H18601                   1             2011.0               2     1224      0  \n",
       "H18177                   1             1960.0               3     1283      0  \n",
       "H356                     1             1960.0               .     1283      0  \n",
       "H15676                   1             1550.0               4     1305      0  \n",
       "H19442                   1             1900.0               2     1305      0  \n",
       "H14635                   1             1960.0               .     1363      0  "
      ]
     },
     "execution_count": 3,
     "metadata": {},
     "output_type": "execute_result"
    }
   ],
   "source": [
    "# Show the first 15 rows of the data\n",
    "df.head(n=15)"
   ]
  },
  {
   "cell_type": "code",
   "execution_count": 4,
   "metadata": {},
   "outputs": [
    {
     "name": "stdout",
     "output_type": "stream",
     "text": [
      "<class 'pandas.core.frame.DataFrame'>\n",
      "Index: 7160 entries, H14663 to H7470\n",
      "Data columns (total 13 columns):\n",
      " #   Column              Non-Null Count  Dtype  \n",
      "---  ------              --------------  -----  \n",
      " 0   YearOfObservation   7160 non-null   int64  \n",
      " 1   Insured_Period      7160 non-null   float64\n",
      " 2   Residential         7160 non-null   int64  \n",
      " 3   Building_Painted    7160 non-null   object \n",
      " 4   Building_Fenced     7160 non-null   object \n",
      " 5   Garden              7153 non-null   object \n",
      " 6   Settlement          7160 non-null   object \n",
      " 7   Building Dimension  7054 non-null   float64\n",
      " 8   Building_Type       7160 non-null   int64  \n",
      " 9   Date_of_Occupancy   6652 non-null   float64\n",
      " 10  NumberOfWindows     7160 non-null   object \n",
      " 11  Geo_Code            7058 non-null   object \n",
      " 12  Claim               7160 non-null   int64  \n",
      "dtypes: float64(3), int64(4), object(6)\n",
      "memory usage: 783.1+ KB\n"
     ]
    }
   ],
   "source": [
    "df.info()"
   ]
  },
  {
   "cell_type": "code",
   "execution_count": 4,
   "metadata": {},
   "outputs": [
    {
     "data": {
      "text/plain": [
       "YearOfObservation       0\n",
       "Insured_Period          0\n",
       "Residential             0\n",
       "Building_Painted        0\n",
       "Building_Fenced         0\n",
       "Garden                  7\n",
       "Settlement              0\n",
       "Building Dimension    106\n",
       "Building_Type           0\n",
       "Date_of_Occupancy     508\n",
       "NumberOfWindows         0\n",
       "Geo_Code              102\n",
       "Claim                   0\n",
       "dtype: int64"
      ]
     },
     "execution_count": 4,
     "metadata": {},
     "output_type": "execute_result"
    }
   ],
   "source": [
    "df.isnull().sum()"
   ]
  },
  {
   "cell_type": "code",
   "execution_count": 5,
   "metadata": {},
   "outputs": [
    {
     "data": {
      "text/plain": [
       "False    0.999022\n",
       "True     0.000978\n",
       "Name: Garden, dtype: float64"
      ]
     },
     "execution_count": 5,
     "metadata": {},
     "output_type": "execute_result"
    }
   ],
   "source": [
    "df['Garden'].isnull().value_counts()/len(df)"
   ]
  },
  {
   "cell_type": "code",
   "execution_count": 6,
   "metadata": {},
   "outputs": [
    {
     "data": {
      "text/plain": [
       "False    0.985196\n",
       "True     0.014804\n",
       "Name: Building Dimension, dtype: float64"
      ]
     },
     "execution_count": 6,
     "metadata": {},
     "output_type": "execute_result"
    }
   ],
   "source": [
    "df['Building Dimension'].isnull().value_counts()/len(df)"
   ]
  },
  {
   "cell_type": "code",
   "execution_count": 7,
   "metadata": {},
   "outputs": [
    {
     "data": {
      "text/plain": [
       "False    0.92905\n",
       "True     0.07095\n",
       "Name: Date_of_Occupancy, dtype: float64"
      ]
     },
     "execution_count": 7,
     "metadata": {},
     "output_type": "execute_result"
    }
   ],
   "source": [
    "df['Date_of_Occupancy'].isnull().value_counts()/len(df)"
   ]
  },
  {
   "cell_type": "code",
   "execution_count": 8,
   "metadata": {},
   "outputs": [
    {
     "data": {
      "text/plain": [
       "False    0.985754\n",
       "True     0.014246\n",
       "Name: Geo_Code, dtype: float64"
      ]
     },
     "execution_count": 8,
     "metadata": {},
     "output_type": "execute_result"
    }
   ],
   "source": [
    "df['Geo_Code'].isnull().value_counts()/len(df)"
   ]
  },
  {
   "cell_type": "code",
   "execution_count": 9,
   "metadata": {},
   "outputs": [],
   "source": [
    "df.drop(columns='NumberOfWindows', inplace=True)"
   ]
  },
  {
   "cell_type": "code",
   "execution_count": 10,
   "metadata": {},
   "outputs": [
    {
     "data": {
      "text/html": [
       "<div>\n",
       "<style scoped>\n",
       "    .dataframe tbody tr th:only-of-type {\n",
       "        vertical-align: middle;\n",
       "    }\n",
       "\n",
       "    .dataframe tbody tr th {\n",
       "        vertical-align: top;\n",
       "    }\n",
       "\n",
       "    .dataframe thead th {\n",
       "        text-align: right;\n",
       "    }\n",
       "</style>\n",
       "<table border=\"1\" class=\"dataframe\">\n",
       "  <thead>\n",
       "    <tr style=\"text-align: right;\">\n",
       "      <th></th>\n",
       "      <th>YearOfObservation</th>\n",
       "      <th>Insured_Period</th>\n",
       "      <th>Residential</th>\n",
       "      <th>Building_Painted</th>\n",
       "      <th>Building_Fenced</th>\n",
       "      <th>Garden</th>\n",
       "      <th>Settlement</th>\n",
       "      <th>Building Dimension</th>\n",
       "      <th>Building_Type</th>\n",
       "      <th>Date_of_Occupancy</th>\n",
       "      <th>Geo_Code</th>\n",
       "      <th>Claim</th>\n",
       "    </tr>\n",
       "    <tr>\n",
       "      <th>Customer Id</th>\n",
       "      <th></th>\n",
       "      <th></th>\n",
       "      <th></th>\n",
       "      <th></th>\n",
       "      <th></th>\n",
       "      <th></th>\n",
       "      <th></th>\n",
       "      <th></th>\n",
       "      <th></th>\n",
       "      <th></th>\n",
       "      <th></th>\n",
       "      <th></th>\n",
       "    </tr>\n",
       "  </thead>\n",
       "  <tbody>\n",
       "    <tr>\n",
       "      <th>H14663</th>\n",
       "      <td>2013</td>\n",
       "      <td>1.000000</td>\n",
       "      <td>0</td>\n",
       "      <td>N</td>\n",
       "      <td>V</td>\n",
       "      <td>V</td>\n",
       "      <td>U</td>\n",
       "      <td>290.0</td>\n",
       "      <td>1</td>\n",
       "      <td>1960.0</td>\n",
       "      <td>1053</td>\n",
       "      <td>0</td>\n",
       "    </tr>\n",
       "    <tr>\n",
       "      <th>H2037</th>\n",
       "      <td>2015</td>\n",
       "      <td>1.000000</td>\n",
       "      <td>0</td>\n",
       "      <td>V</td>\n",
       "      <td>N</td>\n",
       "      <td>O</td>\n",
       "      <td>R</td>\n",
       "      <td>490.0</td>\n",
       "      <td>1</td>\n",
       "      <td>1850.0</td>\n",
       "      <td>1053</td>\n",
       "      <td>0</td>\n",
       "    </tr>\n",
       "    <tr>\n",
       "      <th>H3802</th>\n",
       "      <td>2014</td>\n",
       "      <td>1.000000</td>\n",
       "      <td>0</td>\n",
       "      <td>N</td>\n",
       "      <td>V</td>\n",
       "      <td>V</td>\n",
       "      <td>U</td>\n",
       "      <td>595.0</td>\n",
       "      <td>1</td>\n",
       "      <td>1960.0</td>\n",
       "      <td>1053</td>\n",
       "      <td>0</td>\n",
       "    </tr>\n",
       "    <tr>\n",
       "      <th>H3834</th>\n",
       "      <td>2013</td>\n",
       "      <td>1.000000</td>\n",
       "      <td>0</td>\n",
       "      <td>V</td>\n",
       "      <td>V</td>\n",
       "      <td>V</td>\n",
       "      <td>U</td>\n",
       "      <td>2840.0</td>\n",
       "      <td>1</td>\n",
       "      <td>1960.0</td>\n",
       "      <td>1053</td>\n",
       "      <td>0</td>\n",
       "    </tr>\n",
       "    <tr>\n",
       "      <th>H5053</th>\n",
       "      <td>2014</td>\n",
       "      <td>1.000000</td>\n",
       "      <td>0</td>\n",
       "      <td>V</td>\n",
       "      <td>N</td>\n",
       "      <td>O</td>\n",
       "      <td>R</td>\n",
       "      <td>680.0</td>\n",
       "      <td>1</td>\n",
       "      <td>1800.0</td>\n",
       "      <td>1053</td>\n",
       "      <td>0</td>\n",
       "    </tr>\n",
       "    <tr>\n",
       "      <th>H4977</th>\n",
       "      <td>2012</td>\n",
       "      <td>1.000000</td>\n",
       "      <td>0</td>\n",
       "      <td>V</td>\n",
       "      <td>N</td>\n",
       "      <td>O</td>\n",
       "      <td>R</td>\n",
       "      <td>535.0</td>\n",
       "      <td>1</td>\n",
       "      <td>1980.0</td>\n",
       "      <td>1143</td>\n",
       "      <td>0</td>\n",
       "    </tr>\n",
       "    <tr>\n",
       "      <th>H7390</th>\n",
       "      <td>2012</td>\n",
       "      <td>1.000000</td>\n",
       "      <td>0</td>\n",
       "      <td>N</td>\n",
       "      <td>V</td>\n",
       "      <td>V</td>\n",
       "      <td>U</td>\n",
       "      <td>2830.0</td>\n",
       "      <td>1</td>\n",
       "      <td>1988.0</td>\n",
       "      <td>1143</td>\n",
       "      <td>0</td>\n",
       "    </tr>\n",
       "    <tr>\n",
       "      <th>H14488</th>\n",
       "      <td>2015</td>\n",
       "      <td>1.000000</td>\n",
       "      <td>0</td>\n",
       "      <td>N</td>\n",
       "      <td>V</td>\n",
       "      <td>V</td>\n",
       "      <td>U</td>\n",
       "      <td>4952.0</td>\n",
       "      <td>1</td>\n",
       "      <td>1988.0</td>\n",
       "      <td>1160</td>\n",
       "      <td>0</td>\n",
       "    </tr>\n",
       "    <tr>\n",
       "      <th>H19355</th>\n",
       "      <td>2014</td>\n",
       "      <td>1.000000</td>\n",
       "      <td>0</td>\n",
       "      <td>V</td>\n",
       "      <td>N</td>\n",
       "      <td>O</td>\n",
       "      <td>R</td>\n",
       "      <td>2735.0</td>\n",
       "      <td>1</td>\n",
       "      <td>2013.0</td>\n",
       "      <td>1173</td>\n",
       "      <td>1</td>\n",
       "    </tr>\n",
       "    <tr>\n",
       "      <th>H18601</th>\n",
       "      <td>2015</td>\n",
       "      <td>1.000000</td>\n",
       "      <td>0</td>\n",
       "      <td>V</td>\n",
       "      <td>N</td>\n",
       "      <td>O</td>\n",
       "      <td>R</td>\n",
       "      <td>520.0</td>\n",
       "      <td>1</td>\n",
       "      <td>2011.0</td>\n",
       "      <td>1224</td>\n",
       "      <td>0</td>\n",
       "    </tr>\n",
       "    <tr>\n",
       "      <th>H18177</th>\n",
       "      <td>2013</td>\n",
       "      <td>0.241096</td>\n",
       "      <td>0</td>\n",
       "      <td>V</td>\n",
       "      <td>N</td>\n",
       "      <td>O</td>\n",
       "      <td>R</td>\n",
       "      <td>550.0</td>\n",
       "      <td>1</td>\n",
       "      <td>1960.0</td>\n",
       "      <td>1283</td>\n",
       "      <td>0</td>\n",
       "    </tr>\n",
       "    <tr>\n",
       "      <th>H356</th>\n",
       "      <td>2013</td>\n",
       "      <td>1.000000</td>\n",
       "      <td>0</td>\n",
       "      <td>V</td>\n",
       "      <td>V</td>\n",
       "      <td>V</td>\n",
       "      <td>U</td>\n",
       "      <td>910.0</td>\n",
       "      <td>1</td>\n",
       "      <td>1960.0</td>\n",
       "      <td>1283</td>\n",
       "      <td>0</td>\n",
       "    </tr>\n",
       "    <tr>\n",
       "      <th>H15676</th>\n",
       "      <td>2013</td>\n",
       "      <td>1.000000</td>\n",
       "      <td>0</td>\n",
       "      <td>V</td>\n",
       "      <td>N</td>\n",
       "      <td>O</td>\n",
       "      <td>R</td>\n",
       "      <td>842.0</td>\n",
       "      <td>1</td>\n",
       "      <td>1550.0</td>\n",
       "      <td>1305</td>\n",
       "      <td>0</td>\n",
       "    </tr>\n",
       "    <tr>\n",
       "      <th>H19442</th>\n",
       "      <td>2014</td>\n",
       "      <td>0.843836</td>\n",
       "      <td>0</td>\n",
       "      <td>V</td>\n",
       "      <td>N</td>\n",
       "      <td>O</td>\n",
       "      <td>R</td>\n",
       "      <td>300.0</td>\n",
       "      <td>1</td>\n",
       "      <td>1900.0</td>\n",
       "      <td>1305</td>\n",
       "      <td>0</td>\n",
       "    </tr>\n",
       "    <tr>\n",
       "      <th>H14635</th>\n",
       "      <td>2012</td>\n",
       "      <td>1.000000</td>\n",
       "      <td>0</td>\n",
       "      <td>N</td>\n",
       "      <td>V</td>\n",
       "      <td>V</td>\n",
       "      <td>U</td>\n",
       "      <td>560.0</td>\n",
       "      <td>1</td>\n",
       "      <td>1960.0</td>\n",
       "      <td>1363</td>\n",
       "      <td>0</td>\n",
       "    </tr>\n",
       "  </tbody>\n",
       "</table>\n",
       "</div>"
      ],
      "text/plain": [
       "             YearOfObservation  Insured_Period  Residential Building_Painted  \\\n",
       "Customer Id                                                                    \n",
       "H14663                    2013        1.000000            0                N   \n",
       "H2037                     2015        1.000000            0                V   \n",
       "H3802                     2014        1.000000            0                N   \n",
       "H3834                     2013        1.000000            0                V   \n",
       "H5053                     2014        1.000000            0                V   \n",
       "H4977                     2012        1.000000            0                V   \n",
       "H7390                     2012        1.000000            0                N   \n",
       "H14488                    2015        1.000000            0                N   \n",
       "H19355                    2014        1.000000            0                V   \n",
       "H18601                    2015        1.000000            0                V   \n",
       "H18177                    2013        0.241096            0                V   \n",
       "H356                      2013        1.000000            0                V   \n",
       "H15676                    2013        1.000000            0                V   \n",
       "H19442                    2014        0.843836            0                V   \n",
       "H14635                    2012        1.000000            0                N   \n",
       "\n",
       "            Building_Fenced Garden Settlement  Building Dimension  \\\n",
       "Customer Id                                                         \n",
       "H14663                    V      V          U               290.0   \n",
       "H2037                     N      O          R               490.0   \n",
       "H3802                     V      V          U               595.0   \n",
       "H3834                     V      V          U              2840.0   \n",
       "H5053                     N      O          R               680.0   \n",
       "H4977                     N      O          R               535.0   \n",
       "H7390                     V      V          U              2830.0   \n",
       "H14488                    V      V          U              4952.0   \n",
       "H19355                    N      O          R              2735.0   \n",
       "H18601                    N      O          R               520.0   \n",
       "H18177                    N      O          R               550.0   \n",
       "H356                      V      V          U               910.0   \n",
       "H15676                    N      O          R               842.0   \n",
       "H19442                    N      O          R               300.0   \n",
       "H14635                    V      V          U               560.0   \n",
       "\n",
       "             Building_Type  Date_of_Occupancy Geo_Code  Claim  \n",
       "Customer Id                                                    \n",
       "H14663                   1             1960.0     1053      0  \n",
       "H2037                    1             1850.0     1053      0  \n",
       "H3802                    1             1960.0     1053      0  \n",
       "H3834                    1             1960.0     1053      0  \n",
       "H5053                    1             1800.0     1053      0  \n",
       "H4977                    1             1980.0     1143      0  \n",
       "H7390                    1             1988.0     1143      0  \n",
       "H14488                   1             1988.0     1160      0  \n",
       "H19355                   1             2013.0     1173      1  \n",
       "H18601                   1             2011.0     1224      0  \n",
       "H18177                   1             1960.0     1283      0  \n",
       "H356                     1             1960.0     1283      0  \n",
       "H15676                   1             1550.0     1305      0  \n",
       "H19442                   1             1900.0     1305      0  \n",
       "H14635                   1             1960.0     1363      0  "
      ]
     },
     "execution_count": 10,
     "metadata": {},
     "output_type": "execute_result"
    }
   ],
   "source": [
    "df.head(15)"
   ]
  },
  {
   "cell_type": "code",
   "execution_count": 11,
   "metadata": {},
   "outputs": [
    {
     "data": {
      "text/plain": [
       "YearOfObservation       0\n",
       "Insured_Period          0\n",
       "Residential             0\n",
       "Building_Painted        0\n",
       "Building_Fenced         0\n",
       "Garden                  7\n",
       "Settlement              0\n",
       "Building Dimension    106\n",
       "Building_Type           0\n",
       "Date_of_Occupancy     508\n",
       "Geo_Code              102\n",
       "Claim                   0\n",
       "dtype: int64"
      ]
     },
     "execution_count": 11,
     "metadata": {},
     "output_type": "execute_result"
    }
   ],
   "source": [
    "df.isnull().sum()"
   ]
  },
  {
   "cell_type": "code",
   "execution_count": 12,
   "metadata": {},
   "outputs": [],
   "source": [
    "df.columns= ['YearOfObservation', 'Insured_Period', 'Residential',\n",
    "       'Building_Painted', 'Building_Fenced', 'Garden', 'Settlement',\n",
    "       'Building_Dimension', 'Building_Type', 'Date_of_Occupancy', 'Geo_Code',\n",
    "       'Claim']"
   ]
  },
  {
   "cell_type": "code",
   "execution_count": 13,
   "metadata": {},
   "outputs": [],
   "source": [
    "df['Garden'].fillna(df['Garden'].mode()[0], inplace=True)"
   ]
  },
  {
   "cell_type": "code",
   "execution_count": 14,
   "metadata": {},
   "outputs": [],
   "source": [
    "df['Date_of_Occupancy'].fillna(df['Date_of_Occupancy'].median(), inplace=True)"
   ]
  },
  {
   "cell_type": "code",
   "execution_count": 15,
   "metadata": {},
   "outputs": [],
   "source": [
    "df['Building_Dimension'].fillna(df['Building_Dimension'].median(), inplace=True)"
   ]
  },
  {
   "cell_type": "code",
   "execution_count": 16,
   "metadata": {},
   "outputs": [],
   "source": [
    "df['Geo_Code'].fillna(df['Geo_Code'].mode()[0], inplace=True)"
   ]
  },
  {
   "cell_type": "code",
   "execution_count": 17,
   "metadata": {},
   "outputs": [
    {
     "data": {
      "text/plain": [
       "Index(['YearOfObservation', 'Insured_Period', 'Residential',\n",
       "       'Building_Painted', 'Building_Fenced', 'Garden', 'Settlement',\n",
       "       'Building_Dimension', 'Building_Type', 'Date_of_Occupancy', 'Geo_Code',\n",
       "       'Claim'],\n",
       "      dtype='object')"
      ]
     },
     "execution_count": 17,
     "metadata": {},
     "output_type": "execute_result"
    }
   ],
   "source": [
    "df.columns"
   ]
  },
  {
   "cell_type": "code",
   "execution_count": null,
   "metadata": {},
   "outputs": [],
   "source": []
  },
  {
   "cell_type": "code",
   "execution_count": 18,
   "metadata": {},
   "outputs": [
    {
     "data": {
      "text/plain": [
       "Index(['YearOfObservation', 'Insured_Period', 'Residential',\n",
       "       'Building_Painted', 'Building_Fenced', 'Garden', 'Settlement',\n",
       "       'Building_Dimension', 'Building_Type', 'Date_of_Occupancy', 'Geo_Code',\n",
       "       'Claim'],\n",
       "      dtype='object')"
      ]
     },
     "execution_count": 18,
     "metadata": {},
     "output_type": "execute_result"
    }
   ],
   "source": [
    "df.columns"
   ]
  },
  {
   "cell_type": "code",
   "execution_count": 19,
   "metadata": {},
   "outputs": [
    {
     "name": "stdout",
     "output_type": "stream",
     "text": [
      "<class 'pandas.core.frame.DataFrame'>\n",
      "Index: 7160 entries, H14663 to H7470\n",
      "Data columns (total 12 columns):\n",
      " #   Column              Non-Null Count  Dtype  \n",
      "---  ------              --------------  -----  \n",
      " 0   YearOfObservation   7160 non-null   int64  \n",
      " 1   Insured_Period      7160 non-null   float64\n",
      " 2   Residential         7160 non-null   int64  \n",
      " 3   Building_Painted    7160 non-null   object \n",
      " 4   Building_Fenced     7160 non-null   object \n",
      " 5   Garden              7160 non-null   object \n",
      " 6   Settlement          7160 non-null   object \n",
      " 7   Building_Dimension  7160 non-null   float64\n",
      " 8   Building_Type       7160 non-null   int64  \n",
      " 9   Date_of_Occupancy   7160 non-null   float64\n",
      " 10  Geo_Code            7160 non-null   object \n",
      " 11  Claim               7160 non-null   int64  \n",
      "dtypes: float64(3), int64(4), object(5)\n",
      "memory usage: 727.2+ KB\n"
     ]
    }
   ],
   "source": [
    "df.info()"
   ]
  },
  {
   "cell_type": "code",
   "execution_count": 20,
   "metadata": {},
   "outputs": [],
   "source": [
    "from sklearn.model_selection import train_test_split"
   ]
  },
  {
   "cell_type": "code",
   "execution_count": 21,
   "metadata": {},
   "outputs": [
    {
     "data": {
      "text/plain": [
       "0    0.771788\n",
       "1    0.228212\n",
       "Name: Claim, dtype: float64"
      ]
     },
     "execution_count": 21,
     "metadata": {},
     "output_type": "execute_result"
    }
   ],
   "source": [
    "df['Claim'].value_counts()/len(df)"
   ]
  },
  {
   "cell_type": "code",
   "execution_count": 22,
   "metadata": {},
   "outputs": [],
   "source": [
    "train1, test1 = train_test_split(df, test_size=0.2, random_state=42)"
   ]
  },
  {
   "cell_type": "code",
   "execution_count": 23,
   "metadata": {},
   "outputs": [
    {
     "data": {
      "text/plain": [
       "0    0.773045\n",
       "1    0.226955\n",
       "Name: Claim, dtype: float64"
      ]
     },
     "execution_count": 23,
     "metadata": {},
     "output_type": "execute_result"
    }
   ],
   "source": [
    "train1['Claim'].value_counts()/len(train1)"
   ]
  },
  {
   "cell_type": "code",
   "execution_count": 24,
   "metadata": {},
   "outputs": [
    {
     "data": {
      "text/plain": [
       "0    0.76676\n",
       "1    0.23324\n",
       "Name: Claim, dtype: float64"
      ]
     },
     "execution_count": 24,
     "metadata": {},
     "output_type": "execute_result"
    }
   ],
   "source": [
    "test1['Claim'].value_counts()/len(test1)"
   ]
  },
  {
   "cell_type": "code",
   "execution_count": 25,
   "metadata": {},
   "outputs": [],
   "source": [
    "train2, test2 = train_test_split(df, test_size=0.2, random_state=42, stratify=df['Claim'], shuffle=True)"
   ]
  },
  {
   "cell_type": "code",
   "execution_count": 26,
   "metadata": {},
   "outputs": [
    {
     "data": {
      "text/plain": [
       "0    0.771823\n",
       "1    0.228177\n",
       "Name: Claim, dtype: float64"
      ]
     },
     "execution_count": 26,
     "metadata": {},
     "output_type": "execute_result"
    }
   ],
   "source": [
    "train2['Claim'].value_counts()/len(train2)"
   ]
  },
  {
   "cell_type": "code",
   "execution_count": 27,
   "metadata": {},
   "outputs": [
    {
     "data": {
      "text/plain": [
       "0    0.771648\n",
       "1    0.228352\n",
       "Name: Claim, dtype: float64"
      ]
     },
     "execution_count": 27,
     "metadata": {},
     "output_type": "execute_result"
    }
   ],
   "source": [
    "test2['Claim'].value_counts()/len(test2)"
   ]
  },
  {
   "cell_type": "code",
   "execution_count": 28,
   "metadata": {},
   "outputs": [],
   "source": [
    "import math"
   ]
  },
  {
   "cell_type": "code",
   "execution_count": 29,
   "metadata": {},
   "outputs": [],
   "source": [
    "train_copy=train2.copy()"
   ]
  },
  {
   "cell_type": "code",
   "execution_count": 30,
   "metadata": {},
   "outputs": [
    {
     "data": {
      "text/plain": [
       "array(['10387', '83137', '33555', ..., '91421', '21295', '40328'],\n",
       "      dtype=object)"
      ]
     },
     "execution_count": 30,
     "metadata": {},
     "output_type": "execute_result"
    }
   ],
   "source": [
    "train_copy['Geo_Code'].unique()"
   ]
  },
  {
   "cell_type": "code",
   "execution_count": 31,
   "metadata": {},
   "outputs": [
    {
     "data": {
      "text/plain": [
       "array([0.83606557, 1.        , 0.99726776, 0.49589041, 0.16438356,\n",
       "       0.50273224, 0.24657534, 0.94535519, 0.87123288, 0.68219178,\n",
       "       0.53424657, 0.12295082, 0.08196721, 0.67759563, 0.61202186,\n",
       "       0.41369863, 0.        , 0.46448087, 0.16164384, 0.52054795,\n",
       "       0.58082192, 0.84657534, 0.83287671, 0.7479452 , 0.03561644,\n",
       "       0.22191781, 0.96721311, 0.27123288, 0.99453552, 0.58196721,\n",
       "       0.3479452 , 0.10410959, 0.24863388, 0.66575343, 0.91530055,\n",
       "       0.49726776, 0.98356164, 0.78356164, 0.80273973, 0.79781421,\n",
       "       0.6420765 , 0.22739726, 0.74863388, 0.59452055, 0.78082192,\n",
       "       0.50410959, 0.41530055, 0.75342466, 0.06010929, 0.08469945,\n",
       "       0.03005465, 0.81643836, 0.25205479, 0.99726027, 0.84699454,\n",
       "       0.95616438, 0.66393443, 0.68852459, 0.91506849, 0.33060109,\n",
       "       0.8109589 , 0.49453552, 0.69589041, 0.6       , 0.46849315,\n",
       "       0.73424658, 0.82465753, 0.04383562, 0.37260274, 0.82191781,\n",
       "       0.08493151, 0.67486339, 0.02191781, 0.4109589 , 0.32876712,\n",
       "       0.1890411 , 0.20821918, 0.46994536, 0.75136612, 0.15890411,\n",
       "       0.50958904, 0.33424657, 0.16712329, 0.63387978, 0.06830601,\n",
       "       0.15068493, 0.95342466, 0.2       , 0.86027397, 0.76986301,\n",
       "       0.715847  , 0.90710382, 0.9890411 , 0.24931507, 0.78961749,\n",
       "       0.97808219, 0.66849315, 0.10958904, 0.16393443, 0.76712329,\n",
       "       0.80547945, 0.58469945, 0.18630137, 0.9260274 , 0.49315068,\n",
       "       0.05753425, 0.91780822, 0.33333333, 0.92076503, 0.18082192,\n",
       "       0.8739726 , 0.25136612, 0.98907104, 0.21643836, 0.34520548,\n",
       "       0.86885246, 0.63287671, 0.26849315, 0.25956284, 0.82739726,\n",
       "       0.54520548, 0.47671233, 0.29781421, 0.95890411, 0.57103825,\n",
       "       0.93150685, 0.69315068, 0.05191257, 0.14246575, 0.42896175,\n",
       "       0.96174863, 0.89315069, 0.60547945, 0.32054795, 0.45753425,\n",
       "       0.16986301, 0.71311475, 0.95355191, 0.60382514, 0.45901639,\n",
       "       0.87431694, 0.12876712, 0.78630137, 0.79452055, 0.83835616,\n",
       "       0.41803279, 0.57923497, 0.79508197, 0.80821918, 0.03835616,\n",
       "       0.82240437, 0.58630137, 0.48219178, 0.91256831, 0.65205479,\n",
       "       0.67123288, 0.24590164, 0.11780822, 0.89863014, 0.51092896,\n",
       "       0.57377049, 0.29508197, 0.99178082, 0.70218579, 0.90136986,\n",
       "       0.68032787, 0.35890411, 0.56438356, 0.2630137 , 0.29589041,\n",
       "       0.34426229, 0.48087432, 0.32328767, 0.17260274, 0.77868852,\n",
       "       0.07945205, 0.23561644, 0.44535519, 0.75068493, 0.72876712,\n",
       "       0.95068493, 0.96712329, 0.66666667, 0.21917808, 0.17759563,\n",
       "       0.29041096, 0.13150685, 0.24109589, 0.33879781, 0.8442623 ,\n",
       "       0.91232877, 0.98630137, 0.81369863, 0.65753425, 0.5       ,\n",
       "       0.88797814, 0.31147541, 0.84109589, 0.44383562, 0.83013699,\n",
       "       0.53551913, 0.92896175, 0.6630137 , 0.1147541 , 0.1369863 ,\n",
       "       0.33150685, 0.43169399, 0.4520548 , 0.09315068, 0.88493151,\n",
       "       0.82786885, 0.88219178, 0.83879781, 0.2109589 , 0.74520548,\n",
       "       0.77808219, 0.19672131, 0.52185792, 0.17534247, 0.78142077,\n",
       "       0.22465753, 0.20218579, 0.57808219, 0.88767123, 0.58356164,\n",
       "       0.47945205, 0.90684931, 0.30327869, 0.9726776 , 0.27671233,\n",
       "       0.43835616, 0.70958904, 0.5260274 , 0.85519126, 0.07923497,\n",
       "       0.45355191, 0.14754098, 0.42076503, 0.40273973, 0.0520548 ,\n",
       "       0.38082192, 0.12328767, 0.17213115, 0.79178082, 0.88251366,\n",
       "       0.01639344, 0.8       , 0.14480874, 0.85753425, 0.54098361,\n",
       "       0.29315069, 0.74590164, 0.89041096, 0.18356164, 0.02459016,\n",
       "       0.08767123, 0.54371585, 0.62191781, 0.09863014, 0.94246575,\n",
       "       0.30874317, 0.00273224, 0.54918033, 0.02465753, 0.06557377,\n",
       "       0.96986301, 0.12021858, 0.43442623, 0.12054795, 0.60655738,\n",
       "       0.69863014, 0.55464481, 0.83333333, 0.73972603, 0.35245902,\n",
       "       0.90958904, 0.39344262, 0.23770492, 0.94794521, 0.45081967,\n",
       "       0.05479452, 0.84383562, 0.46575342, 0.87978142, 0.7431694 ,\n",
       "       0.04918033, 0.31506849, 0.15846995, 0.16666667, 0.75616438,\n",
       "       0.90163934, 0.51780822, 0.56010929, 0.48493151, 0.21311475,\n",
       "       0.80327869, 0.15342466, 0.75956284, 0.5479452 , 0.96164384,\n",
       "       0.47123288, 0.96448087, 0.64657534, 0.6739726 , 0.54644809,\n",
       "       0.97534247, 0.61369863, 0.66027397, 0.03013699, 0.06027397,\n",
       "       0.86575342, 0.5369863 , 0.81917808, 0.45479452, 0.03825137,\n",
       "       0.84931507, 0.5273224 , 0.03278689, 0.93424657, 0.95628415,\n",
       "       0.52328767, 0.70491803, 0.04109589, 0.44931507, 0.08219178,\n",
       "       0.04644809, 0.46721312, 0.37704918, 0.92328767, 0.93715847,\n",
       "       0.43561644, 0.2431694 , 0.15300546, 0.36712329, 0.55616438,\n",
       "       0.64109589, 0.83060109, 0.7890411 , 0.94520548, 0.09589041,\n",
       "       0.81147541, 0.10684932, 0.30136986, 0.77534247, 0.89071038,\n",
       "       0.04657534, 0.0739726 , 0.79726027, 0.30054645, 0.63013699,\n",
       "       0.79234973, 0.60928962, 0.19726027, 0.63114754, 0.85479452,\n",
       "       0.47540984, 0.34153005])"
      ]
     },
     "execution_count": 31,
     "metadata": {},
     "output_type": "execute_result"
    }
   ],
   "source": [
    "train_copy['Insured_Period'].unique()"
   ]
  },
  {
   "cell_type": "code",
   "execution_count": null,
   "metadata": {},
   "outputs": [],
   "source": []
  },
  {
   "cell_type": "code",
   "execution_count": null,
   "metadata": {},
   "outputs": [],
   "source": []
  },
  {
   "cell_type": "code",
   "execution_count": 37,
   "metadata": {},
   "outputs": [],
   "source": [
    "def cleaner(x):\n",
    "    if 0 < x <= 0.5:\n",
    "        return 0.5\n",
    "    elif x > 0.5:\n",
    "        return 1\n",
    "    else:\n",
    "        return 0\n"
   ]
  },
  {
   "cell_type": "code",
   "execution_count": 38,
   "metadata": {},
   "outputs": [],
   "source": [
    "train_copy['Insured_Period']=train_copy['Insured_Period'].apply(cleaner)"
   ]
  },
  {
   "cell_type": "markdown",
   "metadata": {},
   "source": [
    " E.D.A"
   ]
  },
  {
   "cell_type": "code",
   "execution_count": 34,
   "metadata": {},
   "outputs": [],
   "source": [
    "train_copy = train2.copy()"
   ]
  },
  {
   "cell_type": "code",
   "execution_count": 35,
   "metadata": {},
   "outputs": [
    {
     "data": {
      "text/plain": [
       "<matplotlib.axes._subplots.AxesSubplot at 0x21a6dbd91f0>"
      ]
     },
     "execution_count": 35,
     "metadata": {},
     "output_type": "execute_result"
    },
    {
     "data": {
      "image/png": "[encoded data removed]",
      "text/plain": [
       "<Figure size 432x288 with 1 Axes>"
      ]
     },
     "metadata": {},
     "output_type": "display_data"
    }
   ],
   "source": [
    "sns.countplot(x=\"Claim\", data=train_copy)"
   ]
  },
  {
   "cell_type": "code",
   "execution_count": 39,
   "metadata": {},
   "outputs": [
    {
     "name": "stderr",
     "output_type": "stream",
     "text": [
      "C:\\Users\\LENOVO\\anaconda3\\lib\\site-packages\\seaborn\\distributions.py:369: UserWarning: Default bandwidth for data is 0; skipping density estimation.\n",
      "  warnings.warn(msg, UserWarning)\n"
     ]
    },
    {
     "data": {
      "text/plain": [
       "<matplotlib.axes._subplots.AxesSubplot at 0x21a6e3b8b20>"
      ]
     },
     "execution_count": 39,
     "metadata": {},
     "output_type": "execute_result"
    },
    {
     "data": {
      "image/png": "[encoded data removed]",
      "text/plain": [
       "<Figure size 432x288 with 1 Axes>"
      ]
     },
     "metadata": {},
     "output_type": "display_data"
    }
   ],
   "source": [
    "sns.distplot(train_copy['Insured_Period'], bins=15)"
   ]
  },
  {
   "cell_type": "code",
   "execution_count": 40,
   "metadata": {},
   "outputs": [
    {
     "data": {
      "text/plain": [
       "<matplotlib.axes._subplots.AxesSubplot at 0x21a6e461280>"
      ]
     },
     "execution_count": 40,
     "metadata": {},
     "output_type": "execute_result"
    },
    {
     "data": {
      "image/png": "[encoded data removed]",
      "text/plain": [
       "<Figure size 432x288 with 1 Axes>"
      ]
     },
     "metadata": {},
     "output_type": "display_data"
    }
   ],
   "source": [
    "sns.countplot(x=\"Insured_Period\", data=train_copy)"
   ]
  },
  {
   "cell_type": "code",
   "execution_count": 41,
   "metadata": {},
   "outputs": [
    {
     "data": {
      "text/plain": [
       "<matplotlib.axes._subplots.AxesSubplot at 0x21a6e4981c0>"
      ]
     },
     "execution_count": 41,
     "metadata": {},
     "output_type": "execute_result"
    },
    {
     "data": {
      "image/png": "[encoded data removed]",
      "text/plain": [
       "<Figure size 432x288 with 1 Axes>"
      ]
     },
     "metadata": {},
     "output_type": "display_data"
    }
   ],
   "source": [
    "sns.distplot(train_copy['Building_Dimension'], bins=50)"
   ]
  },
  {
   "cell_type": "code",
   "execution_count": 42,
   "metadata": {},
   "outputs": [
    {
     "data": {
      "text/plain": [
       "<matplotlib.axes._subplots.AxesSubplot at 0x21a6e48b490>"
      ]
     },
     "execution_count": 42,
     "metadata": {},
     "output_type": "execute_result"
    },
    {
     "data": {
      "image/png": "[encoded data removed]",
      "text/plain": [
       "<Figure size 432x288 with 1 Axes>"
      ]
     },
     "metadata": {},
     "output_type": "display_data"
    }
   ],
   "source": [
    "sns.distplot(train_copy['Date_of_Occupancy'], bins=50)"
   ]
  },
  {
   "cell_type": "code",
   "execution_count": 43,
   "metadata": {},
   "outputs": [
    {
     "data": {
      "text/plain": [
       "<matplotlib.axes._subplots.AxesSubplot at 0x21a6e5a8ca0>"
      ]
     },
     "execution_count": 43,
     "metadata": {},
     "output_type": "execute_result"
    },
    {
     "data": {
      "image/png": "[encoded data removed]",
      "text/plain": [
       "<Figure size 432x288 with 1 Axes>"
      ]
     },
     "metadata": {},
     "output_type": "display_data"
    }
   ],
   "source": [
    "sns.distplot(train_copy['YearOfObservation'], bins=15)"
   ]
  },
  {
   "cell_type": "code",
   "execution_count": 44,
   "metadata": {},
   "outputs": [
    {
     "data": {
      "text/plain": [
       "<matplotlib.axes._subplots.AxesSubplot at 0x21a6e6adc10>"
      ]
     },
     "execution_count": 44,
     "metadata": {},
     "output_type": "execute_result"
    },
    {
     "data": {
      "image/png": "[encoded data removed]",
      "text/plain": [
       "<Figure size 432x288 with 1 Axes>"
      ]
     },
     "metadata": {},
     "output_type": "display_data"
    }
   ],
   "source": [
    "sns.countplot(x=\"YearOfObservation\", data=train_copy)"
   ]
  },
  {
   "cell_type": "code",
   "execution_count": 45,
   "metadata": {},
   "outputs": [
    {
     "data": {
      "text/plain": [
       "<matplotlib.axes._subplots.AxesSubplot at 0x21a6e713e80>"
      ]
     },
     "execution_count": 45,
     "metadata": {},
     "output_type": "execute_result"
    },
    {
     "data": {
      "image/png": "[encoded data removed]",
      "text/plain": [
       "<Figure size 432x288 with 1 Axes>"
      ]
     },
     "metadata": {},
     "output_type": "display_data"
    }
   ],
   "source": [
    "sns.countplot(x=\"Residential\", data=train_copy)"
   ]
  },
  {
   "cell_type": "code",
   "execution_count": 46,
   "metadata": {},
   "outputs": [
    {
     "data": {
      "text/plain": [
       "<matplotlib.axes._subplots.AxesSubplot at 0x21a6e56fdc0>"
      ]
     },
     "execution_count": 46,
     "metadata": {},
     "output_type": "execute_result"
    },
    {
     "data": {
      "image/png": "[encoded data removed]",
      "text/plain": [
       "<Figure size 432x288 with 1 Axes>"
      ]
     },
     "metadata": {},
     "output_type": "display_data"
    }
   ],
   "source": [
    "sns.countplot(x=\"Building_Painted\", data=train_copy)\n"
   ]
  },
  {
   "cell_type": "code",
   "execution_count": 47,
   "metadata": {},
   "outputs": [
    {
     "data": {
      "text/plain": [
       "<matplotlib.axes._subplots.AxesSubplot at 0x21a6e55b910>"
      ]
     },
     "execution_count": 47,
     "metadata": {},
     "output_type": "execute_result"
    },
    {
     "data": {
      "image/png": "[encoded data removed]",
      "text/plain": [
       "<Figure size 432x288 with 1 Axes>"
      ]
     },
     "metadata": {},
     "output_type": "display_data"
    }
   ],
   "source": [
    "sns.countplot(x=\"Building_Fenced\", data=train_copy)"
   ]
  },
  {
   "cell_type": "code",
   "execution_count": 48,
   "metadata": {},
   "outputs": [
    {
     "data": {
      "text/plain": [
       "<matplotlib.axes._subplots.AxesSubplot at 0x21a6e5491f0>"
      ]
     },
     "execution_count": 48,
     "metadata": {},
     "output_type": "execute_result"
    },
    {
     "data": {
      "image/png": "[encoded data removed]",
      "text/plain": [
       "<Figure size 432x288 with 1 Axes>"
      ]
     },
     "metadata": {},
     "output_type": "display_data"
    }
   ],
   "source": [
    "sns.countplot(x=\"Garden\", data=train_copy)\n"
   ]
  },
  {
   "cell_type": "code",
   "execution_count": 49,
   "metadata": {},
   "outputs": [
    {
     "data": {
      "text/plain": [
       "<matplotlib.axes._subplots.AxesSubplot at 0x21a6e801af0>"
      ]
     },
     "execution_count": 49,
     "metadata": {},
     "output_type": "execute_result"
    },
    {
     "data": {
      "image/png": "[encoded data removed]",
      "text/plain": [
       "<Figure size 432x288 with 1 Axes>"
      ]
     },
     "metadata": {},
     "output_type": "display_data"
    }
   ],
   "source": [
    "sns.countplot(x=\"Settlement\", data=train_copy)"
   ]
  },
  {
   "cell_type": "code",
   "execution_count": 50,
   "metadata": {},
   "outputs": [
    {
     "data": {
      "text/plain": [
       "<matplotlib.axes._subplots.AxesSubplot at 0x21a6e865d60>"
      ]
     },
     "execution_count": 50,
     "metadata": {},
     "output_type": "execute_result"
    },
    {
     "data": {
      "image/png": "[encoded data removed]",
      "text/plain": [
       "<Figure size 432x288 with 1 Axes>"
      ]
     },
     "metadata": {},
     "output_type": "display_data"
    }
   ],
   "source": [
    "sns.countplot(x=\"Building_Type\", data=train_copy)"
   ]
  },
  {
   "cell_type": "code",
   "execution_count": 51,
   "metadata": {},
   "outputs": [
    {
     "data": {
      "text/plain": [
       "<matplotlib.axes._subplots.AxesSubplot at 0x21a6fbd5b20>"
      ]
     },
     "execution_count": 51,
     "metadata": {},
     "output_type": "execute_result"
    },
    {
     "data": {
      "image/png": "[encoded data removed]",
      "text/plain": [
       "<Figure size 432x288 with 1 Axes>"
      ]
     },
     "metadata": {},
     "output_type": "display_data"
    }
   ],
   "source": [
    "sns.countplot(x=\"Geo_Code\", data=train_copy)"
   ]
  },
  {
   "cell_type": "code",
   "execution_count": 52,
   "metadata": {},
   "outputs": [
    {
     "data": {
      "text/plain": [
       "Residential  Claim\n",
       "0            0        3134\n",
       "             1         839\n",
       "1            0        1287\n",
       "             1         468\n",
       "Name: Claim, dtype: int64"
      ]
     },
     "execution_count": 52,
     "metadata": {},
     "output_type": "execute_result"
    }
   ],
   "source": [
    "train_copy.groupby('Residential')['Claim'].value_counts()"
   ]
  },
  {
   "cell_type": "code",
   "execution_count": 53,
   "metadata": {},
   "outputs": [
    {
     "data": {
      "text/plain": [
       "Building_Painted  Claim\n",
       "N                 0        1112\n",
       "                  1         294\n",
       "V                 0        3309\n",
       "                  1        1013\n",
       "Name: Claim, dtype: int64"
      ]
     },
     "execution_count": 53,
     "metadata": {},
     "output_type": "execute_result"
    }
   ],
   "source": [
    "train_copy.groupby('Building_Painted')['Claim'].value_counts()"
   ]
  },
  {
   "cell_type": "code",
   "execution_count": 54,
   "metadata": {},
   "outputs": [
    {
     "data": {
      "text/plain": [
       "Building_Fenced  Claim\n",
       "N                0        2170\n",
       "                 1         712\n",
       "V                0        2251\n",
       "                 1         595\n",
       "Name: Claim, dtype: int64"
      ]
     },
     "execution_count": 54,
     "metadata": {},
     "output_type": "execute_result"
    }
   ],
   "source": [
    "train_copy.groupby('Building_Fenced')['Claim'].value_counts()"
   ]
  },
  {
   "cell_type": "code",
   "execution_count": 55,
   "metadata": {},
   "outputs": [
    {
     "data": {
      "text/plain": [
       "Garden  Claim\n",
       "O       0        2170\n",
       "        1         713\n",
       "V       0        2251\n",
       "        1         594\n",
       "Name: Claim, dtype: int64"
      ]
     },
     "execution_count": 55,
     "metadata": {},
     "output_type": "execute_result"
    }
   ],
   "source": [
    "train_copy.groupby('Garden')['Claim'].value_counts()"
   ]
  },
  {
   "cell_type": "code",
   "execution_count": 56,
   "metadata": {},
   "outputs": [
    {
     "data": {
      "text/plain": [
       "Building_Type  Claim\n",
       "1              0        1144\n",
       "               1         247\n",
       "2              0        2049\n",
       "               1         558\n",
       "3              0         728\n",
       "               1         252\n",
       "4              0         500\n",
       "               1         250\n",
       "Name: Claim, dtype: int64"
      ]
     },
     "execution_count": 56,
     "metadata": {},
     "output_type": "execute_result"
    }
   ],
   "source": [
    "train_copy.groupby('Building_Type')['Claim'].value_counts()"
   ]
  },
  {
   "cell_type": "code",
   "execution_count": 57,
   "metadata": {},
   "outputs": [
    {
     "data": {
      "text/plain": [
       "Settlement  Claim\n",
       "R           0        2171\n",
       "            1         713\n",
       "U           0        2250\n",
       "            1         594\n",
       "Name: Claim, dtype: int64"
      ]
     },
     "execution_count": 57,
     "metadata": {},
     "output_type": "execute_result"
    }
   ],
   "source": [
    "train_copy.groupby('Settlement')['Claim'].value_counts()"
   ]
  },
  {
   "cell_type": "code",
   "execution_count": 58,
   "metadata": {},
   "outputs": [
    {
     "data": {
      "text/plain": [
       "Insured_Period  Claim\n",
       "0.0             0         117\n",
       "                1          23\n",
       "0.5             0         344\n",
       "                1          43\n",
       "1.0             0        3960\n",
       "                1        1241\n",
       "Name: Claim, dtype: int64"
      ]
     },
     "execution_count": 58,
     "metadata": {},
     "output_type": "execute_result"
    }
   ],
   "source": [
    "train_copy.groupby('Insured_Period')['Claim'].value_counts()"
   ]
  },
  {
   "cell_type": "code",
   "execution_count": 59,
   "metadata": {},
   "outputs": [
    {
     "data": {
      "text/plain": [
       "<matplotlib.axes._subplots.AxesSubplot at 0x21a705b4460>"
      ]
     },
     "execution_count": 59,
     "metadata": {},
     "output_type": "execute_result"
    },
    {
     "data": {
      "image/png": "[encoded data removed]",
      "text/plain": [
       "<Figure size 432x288 with 1 Axes>"
      ]
     },
     "metadata": {},
     "output_type": "display_data"
    }
   ],
   "source": [
    "sns.countplot(x='Claim', data= train_copy, hue='Building_Type')"
   ]
  },
  {
   "cell_type": "code",
   "execution_count": 60,
   "metadata": {},
   "outputs": [
    {
     "data": {
      "text/plain": [
       "<matplotlib.axes._subplots.AxesSubplot at 0x21a6f9d3700>"
      ]
     },
     "execution_count": 60,
     "metadata": {},
     "output_type": "execute_result"
    },
    {
     "data": {
      "image/png": "[encoded data removed]",
      "text/plain": [
       "<Figure size 432x288 with 1 Axes>"
      ]
     },
     "metadata": {},
     "output_type": "display_data"
    }
   ],
   "source": [
    "sns.countplot(x='Building_Type', data= train_copy, hue='Claim')"
   ]
  },
  {
   "cell_type": "code",
   "execution_count": 61,
   "metadata": {},
   "outputs": [
    {
     "data": {
      "text/plain": [
       "<matplotlib.axes._subplots.AxesSubplot at 0x21a6f9e42b0>"
      ]
     },
     "execution_count": 61,
     "metadata": {},
     "output_type": "execute_result"
    },
    {
     "data": {
      "image/png": "[encoded data removed]",
      "text/plain": [
       "<Figure size 432x288 with 1 Axes>"
      ]
     },
     "metadata": {},
     "output_type": "display_data"
    }
   ],
   "source": [
    "sns.countplot(x='Claim', data= train_copy, hue='Settlement')"
   ]
  },
  {
   "cell_type": "code",
   "execution_count": 62,
   "metadata": {},
   "outputs": [
    {
     "data": {
      "text/plain": [
       "<matplotlib.axes._subplots.AxesSubplot at 0x21a6e8b74c0>"
      ]
     },
     "execution_count": 62,
     "metadata": {},
     "output_type": "execute_result"
    },
    {
     "data": {
      "image/png": "[encoded data removed]",
      "text/plain": [
       "<Figure size 432x288 with 1 Axes>"
      ]
     },
     "metadata": {},
     "output_type": "display_data"
    }
   ],
   "source": [
    "sns.countplot(x='Claim', data= train_copy, hue='Insured_Period')"
   ]
  },
  {
   "cell_type": "code",
   "execution_count": 63,
   "metadata": {},
   "outputs": [
    {
     "data": {
      "text/plain": [
       "<matplotlib.axes._subplots.AxesSubplot at 0x21a6f8c4e80>"
      ]
     },
     "execution_count": 63,
     "metadata": {},
     "output_type": "execute_result"
    },
    {
     "data": {
      "image/png": "[encoded data removed]",
      "text/plain": [
       "<Figure size 432x288 with 1 Axes>"
      ]
     },
     "metadata": {},
     "output_type": "display_data"
    }
   ],
   "source": [
    "sns.countplot(x='Insured_Period', data= train_copy, hue='Claim')"
   ]
  },
  {
   "cell_type": "code",
   "execution_count": 64,
   "metadata": {},
   "outputs": [
    {
     "data": {
      "text/plain": [
       "<matplotlib.axes._subplots.AxesSubplot at 0x21a71e5e5e0>"
      ]
     },
     "execution_count": 64,
     "metadata": {},
     "output_type": "execute_result"
    },
    {
     "data": {
      "image/png": "[encoded data removed]",
      "text/plain": [
       "<Figure size 432x288 with 1 Axes>"
      ]
     },
     "metadata": {},
     "output_type": "display_data"
    }
   ],
   "source": [
    "sns.countplot(x='Claim', data= train_copy, hue='Building_Painted')"
   ]
  },
  {
   "cell_type": "code",
   "execution_count": 65,
   "metadata": {},
   "outputs": [
    {
     "data": {
      "text/plain": [
       "<matplotlib.axes._subplots.AxesSubplot at 0x21a71ea25b0>"
      ]
     },
     "execution_count": 65,
     "metadata": {},
     "output_type": "execute_result"
    },
    {
     "data": {
      "image/png": "[encoded data removed]",
      "text/plain": [
       "<Figure size 432x288 with 1 Axes>"
      ]
     },
     "metadata": {},
     "output_type": "display_data"
    }
   ],
   "source": [
    "sns.countplot(x='Building_Painted', data= train_copy, hue='Claim')"
   ]
  },
  {
   "cell_type": "code",
   "execution_count": 66,
   "metadata": {},
   "outputs": [
    {
     "data": {
      "text/plain": [
       "<matplotlib.axes._subplots.AxesSubplot at 0x21a71eef8e0>"
      ]
     },
     "execution_count": 66,
     "metadata": {},
     "output_type": "execute_result"
    },
    {
     "data": {
      "image/png": "[encoded data removed]",
      "text/plain": [
       "<Figure size 432x288 with 1 Axes>"
      ]
     },
     "metadata": {},
     "output_type": "display_data"
    }
   ],
   "source": [
    "sns.countplot(x='Claim', data= train_copy, hue='YearOfObservation')"
   ]
  },
  {
   "cell_type": "code",
   "execution_count": null,
   "metadata": {},
   "outputs": [],
   "source": []
  },
  {
   "cell_type": "code",
   "execution_count": 67,
   "metadata": {},
   "outputs": [
    {
     "data": {
      "text/plain": [
       "YearOfObservation     0\n",
       "Insured_Period        0\n",
       "Residential           0\n",
       "Building_Painted      0\n",
       "Building_Fenced       0\n",
       "Garden                0\n",
       "Settlement            0\n",
       "Building_Dimension    0\n",
       "Building_Type         0\n",
       "Date_of_Occupancy     0\n",
       "Geo_Code              0\n",
       "Claim                 0\n",
       "dtype: int64"
      ]
     },
     "execution_count": 67,
     "metadata": {},
     "output_type": "execute_result"
    }
   ],
   "source": [
    "train_copy.isnull().sum()"
   ]
  },
  {
   "cell_type": "code",
   "execution_count": 68,
   "metadata": {},
   "outputs": [],
   "source": [
    "painted = pd.get_dummies(data = train_copy['Building_Painted'], prefix = 'painted')\n",
    "fenced = pd.get_dummies(data = train_copy['Building_Fenced'], prefix = 'fenced')\n",
    "garden = pd.get_dummies(data = train_copy['Garden'], prefix = 'Garden')\n",
    "settlement = pd.get_dummies(data = train_copy['Settlement'], prefix = 'settlement')\n",
    "Type = pd.get_dummies(data = train_copy['Building_Type'], prefix = 'type')"
   ]
  },
  {
   "cell_type": "code",
   "execution_count": 69,
   "metadata": {},
   "outputs": [],
   "source": [
    "#train_copy['Insured_Period'] = train_copy['Insured_Period'].apply(math.ceil)\n",
    "train_copy['Building_Dimension'] = train_copy['Building_Dimension'].apply(math.ceil)\n",
    "train_copy['Date_of_Occupancy'] = train_copy['Date_of_Occupancy'].apply(math.ceil)"
   ]
  },
  {
   "cell_type": "code",
   "execution_count": 70,
   "metadata": {},
   "outputs": [
    {
     "data": {
      "text/html": [
       "<div>\n",
       "<style scoped>\n",
       "    .dataframe tbody tr th:only-of-type {\n",
       "        vertical-align: middle;\n",
       "    }\n",
       "\n",
       "    .dataframe tbody tr th {\n",
       "        vertical-align: top;\n",
       "    }\n",
       "\n",
       "    .dataframe thead th {\n",
       "        text-align: right;\n",
       "    }\n",
       "</style>\n",
       "<table border=\"1\" class=\"dataframe\">\n",
       "  <thead>\n",
       "    <tr style=\"text-align: right;\">\n",
       "      <th></th>\n",
       "      <th>YearOfObservation</th>\n",
       "      <th>Insured_Period</th>\n",
       "      <th>Residential</th>\n",
       "      <th>Building_Painted</th>\n",
       "      <th>Building_Fenced</th>\n",
       "      <th>Garden</th>\n",
       "      <th>Settlement</th>\n",
       "      <th>Building_Dimension</th>\n",
       "      <th>Building_Type</th>\n",
       "      <th>Date_of_Occupancy</th>\n",
       "      <th>Geo_Code</th>\n",
       "      <th>Claim</th>\n",
       "    </tr>\n",
       "    <tr>\n",
       "      <th>Customer Id</th>\n",
       "      <th></th>\n",
       "      <th></th>\n",
       "      <th></th>\n",
       "      <th></th>\n",
       "      <th></th>\n",
       "      <th></th>\n",
       "      <th></th>\n",
       "      <th></th>\n",
       "      <th></th>\n",
       "      <th></th>\n",
       "      <th></th>\n",
       "      <th></th>\n",
       "    </tr>\n",
       "  </thead>\n",
       "  <tbody>\n",
       "    <tr>\n",
       "      <th>H19077</th>\n",
       "      <td>2012</td>\n",
       "      <td>1.0</td>\n",
       "      <td>0</td>\n",
       "      <td>V</td>\n",
       "      <td>N</td>\n",
       "      <td>O</td>\n",
       "      <td>R</td>\n",
       "      <td>1441</td>\n",
       "      <td>1</td>\n",
       "      <td>1961</td>\n",
       "      <td>10387</td>\n",
       "      <td>0</td>\n",
       "    </tr>\n",
       "    <tr>\n",
       "      <th>H19437</th>\n",
       "      <td>2015</td>\n",
       "      <td>1.0</td>\n",
       "      <td>0</td>\n",
       "      <td>V</td>\n",
       "      <td>N</td>\n",
       "      <td>O</td>\n",
       "      <td>R</td>\n",
       "      <td>3500</td>\n",
       "      <td>2</td>\n",
       "      <td>2011</td>\n",
       "      <td>83137</td>\n",
       "      <td>1</td>\n",
       "    </tr>\n",
       "    <tr>\n",
       "      <th>H17301</th>\n",
       "      <td>2014</td>\n",
       "      <td>1.0</td>\n",
       "      <td>1</td>\n",
       "      <td>V</td>\n",
       "      <td>N</td>\n",
       "      <td>O</td>\n",
       "      <td>R</td>\n",
       "      <td>716</td>\n",
       "      <td>1</td>\n",
       "      <td>2011</td>\n",
       "      <td>33555</td>\n",
       "      <td>0</td>\n",
       "    </tr>\n",
       "    <tr>\n",
       "      <th>H1734</th>\n",
       "      <td>2016</td>\n",
       "      <td>1.0</td>\n",
       "      <td>1</td>\n",
       "      <td>V</td>\n",
       "      <td>V</td>\n",
       "      <td>V</td>\n",
       "      <td>U</td>\n",
       "      <td>700</td>\n",
       "      <td>3</td>\n",
       "      <td>1970</td>\n",
       "      <td>93005</td>\n",
       "      <td>0</td>\n",
       "    </tr>\n",
       "    <tr>\n",
       "      <th>H14556</th>\n",
       "      <td>2014</td>\n",
       "      <td>1.0</td>\n",
       "      <td>1</td>\n",
       "      <td>N</td>\n",
       "      <td>V</td>\n",
       "      <td>V</td>\n",
       "      <td>U</td>\n",
       "      <td>3480</td>\n",
       "      <td>4</td>\n",
       "      <td>1970</td>\n",
       "      <td>75114</td>\n",
       "      <td>1</td>\n",
       "    </tr>\n",
       "    <tr>\n",
       "      <th>H5533</th>\n",
       "      <td>2014</td>\n",
       "      <td>1.0</td>\n",
       "      <td>1</td>\n",
       "      <td>V</td>\n",
       "      <td>N</td>\n",
       "      <td>O</td>\n",
       "      <td>R</td>\n",
       "      <td>5927</td>\n",
       "      <td>4</td>\n",
       "      <td>1972</td>\n",
       "      <td>6088</td>\n",
       "      <td>1</td>\n",
       "    </tr>\n",
       "    <tr>\n",
       "      <th>H3966</th>\n",
       "      <td>2013</td>\n",
       "      <td>0.5</td>\n",
       "      <td>0</td>\n",
       "      <td>V</td>\n",
       "      <td>V</td>\n",
       "      <td>V</td>\n",
       "      <td>U</td>\n",
       "      <td>400</td>\n",
       "      <td>1</td>\n",
       "      <td>1960</td>\n",
       "      <td>61169</td>\n",
       "      <td>0</td>\n",
       "    </tr>\n",
       "    <tr>\n",
       "      <th>H6785</th>\n",
       "      <td>2013</td>\n",
       "      <td>1.0</td>\n",
       "      <td>1</td>\n",
       "      <td>N</td>\n",
       "      <td>V</td>\n",
       "      <td>V</td>\n",
       "      <td>U</td>\n",
       "      <td>2184</td>\n",
       "      <td>4</td>\n",
       "      <td>1960</td>\n",
       "      <td>75109</td>\n",
       "      <td>1</td>\n",
       "    </tr>\n",
       "    <tr>\n",
       "      <th>H12865</th>\n",
       "      <td>2015</td>\n",
       "      <td>1.0</td>\n",
       "      <td>1</td>\n",
       "      <td>N</td>\n",
       "      <td>V</td>\n",
       "      <td>V</td>\n",
       "      <td>U</td>\n",
       "      <td>520</td>\n",
       "      <td>1</td>\n",
       "      <td>1980</td>\n",
       "      <td>74083</td>\n",
       "      <td>0</td>\n",
       "    </tr>\n",
       "    <tr>\n",
       "      <th>H15731</th>\n",
       "      <td>2012</td>\n",
       "      <td>1.0</td>\n",
       "      <td>0</td>\n",
       "      <td>V</td>\n",
       "      <td>N</td>\n",
       "      <td>O</td>\n",
       "      <td>R</td>\n",
       "      <td>3100</td>\n",
       "      <td>3</td>\n",
       "      <td>1970</td>\n",
       "      <td>2A004</td>\n",
       "      <td>1</td>\n",
       "    </tr>\n",
       "    <tr>\n",
       "      <th>H13523</th>\n",
       "      <td>2012</td>\n",
       "      <td>1.0</td>\n",
       "      <td>0</td>\n",
       "      <td>N</td>\n",
       "      <td>V</td>\n",
       "      <td>V</td>\n",
       "      <td>U</td>\n",
       "      <td>1000</td>\n",
       "      <td>1</td>\n",
       "      <td>1988</td>\n",
       "      <td>5085</td>\n",
       "      <td>0</td>\n",
       "    </tr>\n",
       "    <tr>\n",
       "      <th>H4344</th>\n",
       "      <td>2012</td>\n",
       "      <td>1.0</td>\n",
       "      <td>0</td>\n",
       "      <td>N</td>\n",
       "      <td>V</td>\n",
       "      <td>V</td>\n",
       "      <td>U</td>\n",
       "      <td>580</td>\n",
       "      <td>2</td>\n",
       "      <td>1980</td>\n",
       "      <td>62571</td>\n",
       "      <td>1</td>\n",
       "    </tr>\n",
       "    <tr>\n",
       "      <th>H16958</th>\n",
       "      <td>2013</td>\n",
       "      <td>0.5</td>\n",
       "      <td>0</td>\n",
       "      <td>V</td>\n",
       "      <td>N</td>\n",
       "      <td>O</td>\n",
       "      <td>R</td>\n",
       "      <td>275</td>\n",
       "      <td>1</td>\n",
       "      <td>1900</td>\n",
       "      <td>58194</td>\n",
       "      <td>0</td>\n",
       "    </tr>\n",
       "    <tr>\n",
       "      <th>H16755</th>\n",
       "      <td>2012</td>\n",
       "      <td>1.0</td>\n",
       "      <td>1</td>\n",
       "      <td>V</td>\n",
       "      <td>N</td>\n",
       "      <td>O</td>\n",
       "      <td>R</td>\n",
       "      <td>9100</td>\n",
       "      <td>3</td>\n",
       "      <td>1960</td>\n",
       "      <td>92014</td>\n",
       "      <td>1</td>\n",
       "    </tr>\n",
       "    <tr>\n",
       "      <th>H19305</th>\n",
       "      <td>2014</td>\n",
       "      <td>1.0</td>\n",
       "      <td>0</td>\n",
       "      <td>V</td>\n",
       "      <td>N</td>\n",
       "      <td>O</td>\n",
       "      <td>R</td>\n",
       "      <td>1947</td>\n",
       "      <td>3</td>\n",
       "      <td>1990</td>\n",
       "      <td>54395</td>\n",
       "      <td>0</td>\n",
       "    </tr>\n",
       "    <tr>\n",
       "      <th>H17751</th>\n",
       "      <td>2016</td>\n",
       "      <td>1.0</td>\n",
       "      <td>1</td>\n",
       "      <td>V</td>\n",
       "      <td>N</td>\n",
       "      <td>O</td>\n",
       "      <td>R</td>\n",
       "      <td>10438</td>\n",
       "      <td>2</td>\n",
       "      <td>2011</td>\n",
       "      <td>66136</td>\n",
       "      <td>0</td>\n",
       "    </tr>\n",
       "    <tr>\n",
       "      <th>H4889</th>\n",
       "      <td>2014</td>\n",
       "      <td>1.0</td>\n",
       "      <td>0</td>\n",
       "      <td>V</td>\n",
       "      <td>V</td>\n",
       "      <td>V</td>\n",
       "      <td>U</td>\n",
       "      <td>3120</td>\n",
       "      <td>2</td>\n",
       "      <td>1980</td>\n",
       "      <td>83009</td>\n",
       "      <td>0</td>\n",
       "    </tr>\n",
       "    <tr>\n",
       "      <th>H19902</th>\n",
       "      <td>2016</td>\n",
       "      <td>1.0</td>\n",
       "      <td>1</td>\n",
       "      <td>V</td>\n",
       "      <td>N</td>\n",
       "      <td>O</td>\n",
       "      <td>R</td>\n",
       "      <td>450</td>\n",
       "      <td>4</td>\n",
       "      <td>1900</td>\n",
       "      <td>6083</td>\n",
       "      <td>0</td>\n",
       "    </tr>\n",
       "    <tr>\n",
       "      <th>H16969</th>\n",
       "      <td>2013</td>\n",
       "      <td>1.0</td>\n",
       "      <td>1</td>\n",
       "      <td>V</td>\n",
       "      <td>N</td>\n",
       "      <td>O</td>\n",
       "      <td>R</td>\n",
       "      <td>200</td>\n",
       "      <td>2</td>\n",
       "      <td>1930</td>\n",
       "      <td>51454</td>\n",
       "      <td>0</td>\n",
       "    </tr>\n",
       "    <tr>\n",
       "      <th>H14003</th>\n",
       "      <td>2014</td>\n",
       "      <td>0.5</td>\n",
       "      <td>1</td>\n",
       "      <td>N</td>\n",
       "      <td>V</td>\n",
       "      <td>V</td>\n",
       "      <td>U</td>\n",
       "      <td>800</td>\n",
       "      <td>1</td>\n",
       "      <td>1988</td>\n",
       "      <td>13056</td>\n",
       "      <td>0</td>\n",
       "    </tr>\n",
       "  </tbody>\n",
       "</table>\n",
       "</div>"
      ],
      "text/plain": [
       "             YearOfObservation  Insured_Period  Residential Building_Painted  \\\n",
       "Customer Id                                                                    \n",
       "H19077                    2012             1.0            0                V   \n",
       "H19437                    2015             1.0            0                V   \n",
       "H17301                    2014             1.0            1                V   \n",
       "H1734                     2016             1.0            1                V   \n",
       "H14556                    2014             1.0            1                N   \n",
       "H5533                     2014             1.0            1                V   \n",
       "H3966                     2013             0.5            0                V   \n",
       "H6785                     2013             1.0            1                N   \n",
       "H12865                    2015             1.0            1                N   \n",
       "H15731                    2012             1.0            0                V   \n",
       "H13523                    2012             1.0            0                N   \n",
       "H4344                     2012             1.0            0                N   \n",
       "H16958                    2013             0.5            0                V   \n",
       "H16755                    2012             1.0            1                V   \n",
       "H19305                    2014             1.0            0                V   \n",
       "H17751                    2016             1.0            1                V   \n",
       "H4889                     2014             1.0            0                V   \n",
       "H19902                    2016             1.0            1                V   \n",
       "H16969                    2013             1.0            1                V   \n",
       "H14003                    2014             0.5            1                N   \n",
       "\n",
       "            Building_Fenced Garden Settlement  Building_Dimension  \\\n",
       "Customer Id                                                         \n",
       "H19077                    N      O          R                1441   \n",
       "H19437                    N      O          R                3500   \n",
       "H17301                    N      O          R                 716   \n",
       "H1734                     V      V          U                 700   \n",
       "H14556                    V      V          U                3480   \n",
       "H5533                     N      O          R                5927   \n",
       "H3966                     V      V          U                 400   \n",
       "H6785                     V      V          U                2184   \n",
       "H12865                    V      V          U                 520   \n",
       "H15731                    N      O          R                3100   \n",
       "H13523                    V      V          U                1000   \n",
       "H4344                     V      V          U                 580   \n",
       "H16958                    N      O          R                 275   \n",
       "H16755                    N      O          R                9100   \n",
       "H19305                    N      O          R                1947   \n",
       "H17751                    N      O          R               10438   \n",
       "H4889                     V      V          U                3120   \n",
       "H19902                    N      O          R                 450   \n",
       "H16969                    N      O          R                 200   \n",
       "H14003                    V      V          U                 800   \n",
       "\n",
       "             Building_Type  Date_of_Occupancy Geo_Code  Claim  \n",
       "Customer Id                                                    \n",
       "H19077                   1               1961    10387      0  \n",
       "H19437                   2               2011    83137      1  \n",
       "H17301                   1               2011    33555      0  \n",
       "H1734                    3               1970    93005      0  \n",
       "H14556                   4               1970    75114      1  \n",
       "H5533                    4               1972     6088      1  \n",
       "H3966                    1               1960    61169      0  \n",
       "H6785                    4               1960    75109      1  \n",
       "H12865                   1               1980    74083      0  \n",
       "H15731                   3               1970    2A004      1  \n",
       "H13523                   1               1988     5085      0  \n",
       "H4344                    2               1980    62571      1  \n",
       "H16958                   1               1900    58194      0  \n",
       "H16755                   3               1960    92014      1  \n",
       "H19305                   3               1990    54395      0  \n",
       "H17751                   2               2011    66136      0  \n",
       "H4889                    2               1980    83009      0  \n",
       "H19902                   4               1900     6083      0  \n",
       "H16969                   2               1930    51454      0  \n",
       "H14003                   1               1988    13056      0  "
      ]
     },
     "execution_count": 70,
     "metadata": {},
     "output_type": "execute_result"
    }
   ],
   "source": [
    "train_copy.head(20)"
   ]
  },
  {
   "cell_type": "raw",
   "metadata": {},
   "source": []
  },
  {
   "cell_type": "code",
   "execution_count": 71,
   "metadata": {},
   "outputs": [],
   "source": [
    "train_copy = pd.concat([train_copy, painted,fenced,garden,settlement,Type], axis =1)"
   ]
  },
  {
   "cell_type": "code",
   "execution_count": 72,
   "metadata": {},
   "outputs": [
    {
     "data": {
      "text/html": [
       "<div>\n",
       "<style scoped>\n",
       "    .dataframe tbody tr th:only-of-type {\n",
       "        vertical-align: middle;\n",
       "    }\n",
       "\n",
       "    .dataframe tbody tr th {\n",
       "        vertical-align: top;\n",
       "    }\n",
       "\n",
       "    .dataframe thead th {\n",
       "        text-align: right;\n",
       "    }\n",
       "</style>\n",
       "<table border=\"1\" class=\"dataframe\">\n",
       "  <thead>\n",
       "    <tr style=\"text-align: right;\">\n",
       "      <th></th>\n",
       "      <th>YearOfObservation</th>\n",
       "      <th>Insured_Period</th>\n",
       "      <th>Residential</th>\n",
       "      <th>Building_Painted</th>\n",
       "      <th>Building_Fenced</th>\n",
       "      <th>Garden</th>\n",
       "      <th>Settlement</th>\n",
       "      <th>Building_Dimension</th>\n",
       "      <th>Building_Type</th>\n",
       "      <th>Date_of_Occupancy</th>\n",
       "      <th>...</th>\n",
       "      <th>fenced_N</th>\n",
       "      <th>fenced_V</th>\n",
       "      <th>Garden_O</th>\n",
       "      <th>Garden_V</th>\n",
       "      <th>settlement_R</th>\n",
       "      <th>settlement_U</th>\n",
       "      <th>type_1</th>\n",
       "      <th>type_2</th>\n",
       "      <th>type_3</th>\n",
       "      <th>type_4</th>\n",
       "    </tr>\n",
       "    <tr>\n",
       "      <th>Customer Id</th>\n",
       "      <th></th>\n",
       "      <th></th>\n",
       "      <th></th>\n",
       "      <th></th>\n",
       "      <th></th>\n",
       "      <th></th>\n",
       "      <th></th>\n",
       "      <th></th>\n",
       "      <th></th>\n",
       "      <th></th>\n",
       "      <th></th>\n",
       "      <th></th>\n",
       "      <th></th>\n",
       "      <th></th>\n",
       "      <th></th>\n",
       "      <th></th>\n",
       "      <th></th>\n",
       "      <th></th>\n",
       "      <th></th>\n",
       "      <th></th>\n",
       "      <th></th>\n",
       "    </tr>\n",
       "  </thead>\n",
       "  <tbody>\n",
       "    <tr>\n",
       "      <th>H19077</th>\n",
       "      <td>2012</td>\n",
       "      <td>1.0</td>\n",
       "      <td>0</td>\n",
       "      <td>V</td>\n",
       "      <td>N</td>\n",
       "      <td>O</td>\n",
       "      <td>R</td>\n",
       "      <td>1441</td>\n",
       "      <td>1</td>\n",
       "      <td>1961</td>\n",
       "      <td>...</td>\n",
       "      <td>1</td>\n",
       "      <td>0</td>\n",
       "      <td>1</td>\n",
       "      <td>0</td>\n",
       "      <td>1</td>\n",
       "      <td>0</td>\n",
       "      <td>1</td>\n",
       "      <td>0</td>\n",
       "      <td>0</td>\n",
       "      <td>0</td>\n",
       "    </tr>\n",
       "    <tr>\n",
       "      <th>H19437</th>\n",
       "      <td>2015</td>\n",
       "      <td>1.0</td>\n",
       "      <td>0</td>\n",
       "      <td>V</td>\n",
       "      <td>N</td>\n",
       "      <td>O</td>\n",
       "      <td>R</td>\n",
       "      <td>3500</td>\n",
       "      <td>2</td>\n",
       "      <td>2011</td>\n",
       "      <td>...</td>\n",
       "      <td>1</td>\n",
       "      <td>0</td>\n",
       "      <td>1</td>\n",
       "      <td>0</td>\n",
       "      <td>1</td>\n",
       "      <td>0</td>\n",
       "      <td>0</td>\n",
       "      <td>1</td>\n",
       "      <td>0</td>\n",
       "      <td>0</td>\n",
       "    </tr>\n",
       "    <tr>\n",
       "      <th>H17301</th>\n",
       "      <td>2014</td>\n",
       "      <td>1.0</td>\n",
       "      <td>1</td>\n",
       "      <td>V</td>\n",
       "      <td>N</td>\n",
       "      <td>O</td>\n",
       "      <td>R</td>\n",
       "      <td>716</td>\n",
       "      <td>1</td>\n",
       "      <td>2011</td>\n",
       "      <td>...</td>\n",
       "      <td>1</td>\n",
       "      <td>0</td>\n",
       "      <td>1</td>\n",
       "      <td>0</td>\n",
       "      <td>1</td>\n",
       "      <td>0</td>\n",
       "      <td>1</td>\n",
       "      <td>0</td>\n",
       "      <td>0</td>\n",
       "      <td>0</td>\n",
       "    </tr>\n",
       "    <tr>\n",
       "      <th>H1734</th>\n",
       "      <td>2016</td>\n",
       "      <td>1.0</td>\n",
       "      <td>1</td>\n",
       "      <td>V</td>\n",
       "      <td>V</td>\n",
       "      <td>V</td>\n",
       "      <td>U</td>\n",
       "      <td>700</td>\n",
       "      <td>3</td>\n",
       "      <td>1970</td>\n",
       "      <td>...</td>\n",
       "      <td>0</td>\n",
       "      <td>1</td>\n",
       "      <td>0</td>\n",
       "      <td>1</td>\n",
       "      <td>0</td>\n",
       "      <td>1</td>\n",
       "      <td>0</td>\n",
       "      <td>0</td>\n",
       "      <td>1</td>\n",
       "      <td>0</td>\n",
       "    </tr>\n",
       "    <tr>\n",
       "      <th>H14556</th>\n",
       "      <td>2014</td>\n",
       "      <td>1.0</td>\n",
       "      <td>1</td>\n",
       "      <td>N</td>\n",
       "      <td>V</td>\n",
       "      <td>V</td>\n",
       "      <td>U</td>\n",
       "      <td>3480</td>\n",
       "      <td>4</td>\n",
       "      <td>1970</td>\n",
       "      <td>...</td>\n",
       "      <td>0</td>\n",
       "      <td>1</td>\n",
       "      <td>0</td>\n",
       "      <td>1</td>\n",
       "      <td>0</td>\n",
       "      <td>1</td>\n",
       "      <td>0</td>\n",
       "      <td>0</td>\n",
       "      <td>0</td>\n",
       "      <td>1</td>\n",
       "    </tr>\n",
       "    <tr>\n",
       "      <th>H5533</th>\n",
       "      <td>2014</td>\n",
       "      <td>1.0</td>\n",
       "      <td>1</td>\n",
       "      <td>V</td>\n",
       "      <td>N</td>\n",
       "      <td>O</td>\n",
       "      <td>R</td>\n",
       "      <td>5927</td>\n",
       "      <td>4</td>\n",
       "      <td>1972</td>\n",
       "      <td>...</td>\n",
       "      <td>1</td>\n",
       "      <td>0</td>\n",
       "      <td>1</td>\n",
       "      <td>0</td>\n",
       "      <td>1</td>\n",
       "      <td>0</td>\n",
       "      <td>0</td>\n",
       "      <td>0</td>\n",
       "      <td>0</td>\n",
       "      <td>1</td>\n",
       "    </tr>\n",
       "    <tr>\n",
       "      <th>H3966</th>\n",
       "      <td>2013</td>\n",
       "      <td>0.5</td>\n",
       "      <td>0</td>\n",
       "      <td>V</td>\n",
       "      <td>V</td>\n",
       "      <td>V</td>\n",
       "      <td>U</td>\n",
       "      <td>400</td>\n",
       "      <td>1</td>\n",
       "      <td>1960</td>\n",
       "      <td>...</td>\n",
       "      <td>0</td>\n",
       "      <td>1</td>\n",
       "      <td>0</td>\n",
       "      <td>1</td>\n",
       "      <td>0</td>\n",
       "      <td>1</td>\n",
       "      <td>1</td>\n",
       "      <td>0</td>\n",
       "      <td>0</td>\n",
       "      <td>0</td>\n",
       "    </tr>\n",
       "    <tr>\n",
       "      <th>H6785</th>\n",
       "      <td>2013</td>\n",
       "      <td>1.0</td>\n",
       "      <td>1</td>\n",
       "      <td>N</td>\n",
       "      <td>V</td>\n",
       "      <td>V</td>\n",
       "      <td>U</td>\n",
       "      <td>2184</td>\n",
       "      <td>4</td>\n",
       "      <td>1960</td>\n",
       "      <td>...</td>\n",
       "      <td>0</td>\n",
       "      <td>1</td>\n",
       "      <td>0</td>\n",
       "      <td>1</td>\n",
       "      <td>0</td>\n",
       "      <td>1</td>\n",
       "      <td>0</td>\n",
       "      <td>0</td>\n",
       "      <td>0</td>\n",
       "      <td>1</td>\n",
       "    </tr>\n",
       "    <tr>\n",
       "      <th>H12865</th>\n",
       "      <td>2015</td>\n",
       "      <td>1.0</td>\n",
       "      <td>1</td>\n",
       "      <td>N</td>\n",
       "      <td>V</td>\n",
       "      <td>V</td>\n",
       "      <td>U</td>\n",
       "      <td>520</td>\n",
       "      <td>1</td>\n",
       "      <td>1980</td>\n",
       "      <td>...</td>\n",
       "      <td>0</td>\n",
       "      <td>1</td>\n",
       "      <td>0</td>\n",
       "      <td>1</td>\n",
       "      <td>0</td>\n",
       "      <td>1</td>\n",
       "      <td>1</td>\n",
       "      <td>0</td>\n",
       "      <td>0</td>\n",
       "      <td>0</td>\n",
       "    </tr>\n",
       "    <tr>\n",
       "      <th>H15731</th>\n",
       "      <td>2012</td>\n",
       "      <td>1.0</td>\n",
       "      <td>0</td>\n",
       "      <td>V</td>\n",
       "      <td>N</td>\n",
       "      <td>O</td>\n",
       "      <td>R</td>\n",
       "      <td>3100</td>\n",
       "      <td>3</td>\n",
       "      <td>1970</td>\n",
       "      <td>...</td>\n",
       "      <td>1</td>\n",
       "      <td>0</td>\n",
       "      <td>1</td>\n",
       "      <td>0</td>\n",
       "      <td>1</td>\n",
       "      <td>0</td>\n",
       "      <td>0</td>\n",
       "      <td>0</td>\n",
       "      <td>1</td>\n",
       "      <td>0</td>\n",
       "    </tr>\n",
       "    <tr>\n",
       "      <th>H13523</th>\n",
       "      <td>2012</td>\n",
       "      <td>1.0</td>\n",
       "      <td>0</td>\n",
       "      <td>N</td>\n",
       "      <td>V</td>\n",
       "      <td>V</td>\n",
       "      <td>U</td>\n",
       "      <td>1000</td>\n",
       "      <td>1</td>\n",
       "      <td>1988</td>\n",
       "      <td>...</td>\n",
       "      <td>0</td>\n",
       "      <td>1</td>\n",
       "      <td>0</td>\n",
       "      <td>1</td>\n",
       "      <td>0</td>\n",
       "      <td>1</td>\n",
       "      <td>1</td>\n",
       "      <td>0</td>\n",
       "      <td>0</td>\n",
       "      <td>0</td>\n",
       "    </tr>\n",
       "    <tr>\n",
       "      <th>H4344</th>\n",
       "      <td>2012</td>\n",
       "      <td>1.0</td>\n",
       "      <td>0</td>\n",
       "      <td>N</td>\n",
       "      <td>V</td>\n",
       "      <td>V</td>\n",
       "      <td>U</td>\n",
       "      <td>580</td>\n",
       "      <td>2</td>\n",
       "      <td>1980</td>\n",
       "      <td>...</td>\n",
       "      <td>0</td>\n",
       "      <td>1</td>\n",
       "      <td>0</td>\n",
       "      <td>1</td>\n",
       "      <td>0</td>\n",
       "      <td>1</td>\n",
       "      <td>0</td>\n",
       "      <td>1</td>\n",
       "      <td>0</td>\n",
       "      <td>0</td>\n",
       "    </tr>\n",
       "    <tr>\n",
       "      <th>H16958</th>\n",
       "      <td>2013</td>\n",
       "      <td>0.5</td>\n",
       "      <td>0</td>\n",
       "      <td>V</td>\n",
       "      <td>N</td>\n",
       "      <td>O</td>\n",
       "      <td>R</td>\n",
       "      <td>275</td>\n",
       "      <td>1</td>\n",
       "      <td>1900</td>\n",
       "      <td>...</td>\n",
       "      <td>1</td>\n",
       "      <td>0</td>\n",
       "      <td>1</td>\n",
       "      <td>0</td>\n",
       "      <td>1</td>\n",
       "      <td>0</td>\n",
       "      <td>1</td>\n",
       "      <td>0</td>\n",
       "      <td>0</td>\n",
       "      <td>0</td>\n",
       "    </tr>\n",
       "    <tr>\n",
       "      <th>H16755</th>\n",
       "      <td>2012</td>\n",
       "      <td>1.0</td>\n",
       "      <td>1</td>\n",
       "      <td>V</td>\n",
       "      <td>N</td>\n",
       "      <td>O</td>\n",
       "      <td>R</td>\n",
       "      <td>9100</td>\n",
       "      <td>3</td>\n",
       "      <td>1960</td>\n",
       "      <td>...</td>\n",
       "      <td>1</td>\n",
       "      <td>0</td>\n",
       "      <td>1</td>\n",
       "      <td>0</td>\n",
       "      <td>1</td>\n",
       "      <td>0</td>\n",
       "      <td>0</td>\n",
       "      <td>0</td>\n",
       "      <td>1</td>\n",
       "      <td>0</td>\n",
       "    </tr>\n",
       "    <tr>\n",
       "      <th>H19305</th>\n",
       "      <td>2014</td>\n",
       "      <td>1.0</td>\n",
       "      <td>0</td>\n",
       "      <td>V</td>\n",
       "      <td>N</td>\n",
       "      <td>O</td>\n",
       "      <td>R</td>\n",
       "      <td>1947</td>\n",
       "      <td>3</td>\n",
       "      <td>1990</td>\n",
       "      <td>...</td>\n",
       "      <td>1</td>\n",
       "      <td>0</td>\n",
       "      <td>1</td>\n",
       "      <td>0</td>\n",
       "      <td>1</td>\n",
       "      <td>0</td>\n",
       "      <td>0</td>\n",
       "      <td>0</td>\n",
       "      <td>1</td>\n",
       "      <td>0</td>\n",
       "    </tr>\n",
       "  </tbody>\n",
       "</table>\n",
       "<p>15 rows × 24 columns</p>\n",
       "</div>"
      ],
      "text/plain": [
       "             YearOfObservation  Insured_Period  Residential Building_Painted  \\\n",
       "Customer Id                                                                    \n",
       "H19077                    2012             1.0            0                V   \n",
       "H19437                    2015             1.0            0                V   \n",
       "H17301                    2014             1.0            1                V   \n",
       "H1734                     2016             1.0            1                V   \n",
       "H14556                    2014             1.0            1                N   \n",
       "H5533                     2014             1.0            1                V   \n",
       "H3966                     2013             0.5            0                V   \n",
       "H6785                     2013             1.0            1                N   \n",
       "H12865                    2015             1.0            1                N   \n",
       "H15731                    2012             1.0            0                V   \n",
       "H13523                    2012             1.0            0                N   \n",
       "H4344                     2012             1.0            0                N   \n",
       "H16958                    2013             0.5            0                V   \n",
       "H16755                    2012             1.0            1                V   \n",
       "H19305                    2014             1.0            0                V   \n",
       "\n",
       "            Building_Fenced Garden Settlement  Building_Dimension  \\\n",
       "Customer Id                                                         \n",
       "H19077                    N      O          R                1441   \n",
       "H19437                    N      O          R                3500   \n",
       "H17301                    N      O          R                 716   \n",
       "H1734                     V      V          U                 700   \n",
       "H14556                    V      V          U                3480   \n",
       "H5533                     N      O          R                5927   \n",
       "H3966                     V      V          U                 400   \n",
       "H6785                     V      V          U                2184   \n",
       "H12865                    V      V          U                 520   \n",
       "H15731                    N      O          R                3100   \n",
       "H13523                    V      V          U                1000   \n",
       "H4344                     V      V          U                 580   \n",
       "H16958                    N      O          R                 275   \n",
       "H16755                    N      O          R                9100   \n",
       "H19305                    N      O          R                1947   \n",
       "\n",
       "             Building_Type  Date_of_Occupancy  ... fenced_N  fenced_V  \\\n",
       "Customer Id                                    ...                      \n",
       "H19077                   1               1961  ...        1         0   \n",
       "H19437                   2               2011  ...        1         0   \n",
       "H17301                   1               2011  ...        1         0   \n",
       "H1734                    3               1970  ...        0         1   \n",
       "H14556                   4               1970  ...        0         1   \n",
       "H5533                    4               1972  ...        1         0   \n",
       "H3966                    1               1960  ...        0         1   \n",
       "H6785                    4               1960  ...        0         1   \n",
       "H12865                   1               1980  ...        0         1   \n",
       "H15731                   3               1970  ...        1         0   \n",
       "H13523                   1               1988  ...        0         1   \n",
       "H4344                    2               1980  ...        0         1   \n",
       "H16958                   1               1900  ...        1         0   \n",
       "H16755                   3               1960  ...        1         0   \n",
       "H19305                   3               1990  ...        1         0   \n",
       "\n",
       "             Garden_O  Garden_V  settlement_R  settlement_U  type_1  type_2  \\\n",
       "Customer Id                                                                   \n",
       "H19077              1         0             1             0       1       0   \n",
       "H19437              1         0             1             0       0       1   \n",
       "H17301              1         0             1             0       1       0   \n",
       "H1734               0         1             0             1       0       0   \n",
       "H14556              0         1             0             1       0       0   \n",
       "H5533               1         0             1             0       0       0   \n",
       "H3966               0         1             0             1       1       0   \n",
       "H6785               0         1             0             1       0       0   \n",
       "H12865              0         1             0             1       1       0   \n",
       "H15731              1         0             1             0       0       0   \n",
       "H13523              0         1             0             1       1       0   \n",
       "H4344               0         1             0             1       0       1   \n",
       "H16958              1         0             1             0       1       0   \n",
       "H16755              1         0             1             0       0       0   \n",
       "H19305              1         0             1             0       0       0   \n",
       "\n",
       "             type_3  type_4  \n",
       "Customer Id                  \n",
       "H19077            0       0  \n",
       "H19437            0       0  \n",
       "H17301            0       0  \n",
       "H1734             1       0  \n",
       "H14556            0       1  \n",
       "H5533             0       1  \n",
       "H3966             0       0  \n",
       "H6785             0       1  \n",
       "H12865            0       0  \n",
       "H15731            1       0  \n",
       "H13523            0       0  \n",
       "H4344             0       0  \n",
       "H16958            0       0  \n",
       "H16755            1       0  \n",
       "H19305            1       0  \n",
       "\n",
       "[15 rows x 24 columns]"
      ]
     },
     "execution_count": 72,
     "metadata": {},
     "output_type": "execute_result"
    }
   ],
   "source": [
    "train_copy.head(15)"
   ]
  },
  {
   "cell_type": "raw",
   "metadata": {},
   "source": []
  },
  {
   "cell_type": "code",
   "execution_count": 75,
   "metadata": {},
   "outputs": [],
   "source": [
    "drop_col = ['Building_Painted', 'Building_Fenced', 'Garden', 'Settlement', 'Building_Type','Geo_Code']"
   ]
  },
  {
   "cell_type": "code",
   "execution_count": 76,
   "metadata": {},
   "outputs": [],
   "source": [
    "train_copy.drop(columns= drop_col, inplace=True)"
   ]
  },
  {
   "cell_type": "code",
   "execution_count": 77,
   "metadata": {},
   "outputs": [
    {
     "data": {
      "text/html": [
       "<div>\n",
       "<style scoped>\n",
       "    .dataframe tbody tr th:only-of-type {\n",
       "        vertical-align: middle;\n",
       "    }\n",
       "\n",
       "    .dataframe tbody tr th {\n",
       "        vertical-align: top;\n",
       "    }\n",
       "\n",
       "    .dataframe thead th {\n",
       "        text-align: right;\n",
       "    }\n",
       "</style>\n",
       "<table border=\"1\" class=\"dataframe\">\n",
       "  <thead>\n",
       "    <tr style=\"text-align: right;\">\n",
       "      <th></th>\n",
       "      <th>YearOfObservation</th>\n",
       "      <th>Insured_Period</th>\n",
       "      <th>Residential</th>\n",
       "      <th>Building_Dimension</th>\n",
       "      <th>Date_of_Occupancy</th>\n",
       "      <th>Claim</th>\n",
       "      <th>painted_N</th>\n",
       "      <th>painted_V</th>\n",
       "      <th>fenced_N</th>\n",
       "      <th>fenced_V</th>\n",
       "      <th>Garden_O</th>\n",
       "      <th>Garden_V</th>\n",
       "      <th>settlement_R</th>\n",
       "      <th>settlement_U</th>\n",
       "      <th>type_1</th>\n",
       "      <th>type_2</th>\n",
       "      <th>type_3</th>\n",
       "      <th>type_4</th>\n",
       "    </tr>\n",
       "    <tr>\n",
       "      <th>Customer Id</th>\n",
       "      <th></th>\n",
       "      <th></th>\n",
       "      <th></th>\n",
       "      <th></th>\n",
       "      <th></th>\n",
       "      <th></th>\n",
       "      <th></th>\n",
       "      <th></th>\n",
       "      <th></th>\n",
       "      <th></th>\n",
       "      <th></th>\n",
       "      <th></th>\n",
       "      <th></th>\n",
       "      <th></th>\n",
       "      <th></th>\n",
       "      <th></th>\n",
       "      <th></th>\n",
       "      <th></th>\n",
       "    </tr>\n",
       "  </thead>\n",
       "  <tbody>\n",
       "    <tr>\n",
       "      <th>H19077</th>\n",
       "      <td>2012</td>\n",
       "      <td>1.0</td>\n",
       "      <td>0</td>\n",
       "      <td>1441</td>\n",
       "      <td>1961</td>\n",
       "      <td>0</td>\n",
       "      <td>0</td>\n",
       "      <td>1</td>\n",
       "      <td>1</td>\n",
       "      <td>0</td>\n",
       "      <td>1</td>\n",
       "      <td>0</td>\n",
       "      <td>1</td>\n",
       "      <td>0</td>\n",
       "      <td>1</td>\n",
       "      <td>0</td>\n",
       "      <td>0</td>\n",
       "      <td>0</td>\n",
       "    </tr>\n",
       "    <tr>\n",
       "      <th>H19437</th>\n",
       "      <td>2015</td>\n",
       "      <td>1.0</td>\n",
       "      <td>0</td>\n",
       "      <td>3500</td>\n",
       "      <td>2011</td>\n",
       "      <td>1</td>\n",
       "      <td>0</td>\n",
       "      <td>1</td>\n",
       "      <td>1</td>\n",
       "      <td>0</td>\n",
       "      <td>1</td>\n",
       "      <td>0</td>\n",
       "      <td>1</td>\n",
       "      <td>0</td>\n",
       "      <td>0</td>\n",
       "      <td>1</td>\n",
       "      <td>0</td>\n",
       "      <td>0</td>\n",
       "    </tr>\n",
       "    <tr>\n",
       "      <th>H17301</th>\n",
       "      <td>2014</td>\n",
       "      <td>1.0</td>\n",
       "      <td>1</td>\n",
       "      <td>716</td>\n",
       "      <td>2011</td>\n",
       "      <td>0</td>\n",
       "      <td>0</td>\n",
       "      <td>1</td>\n",
       "      <td>1</td>\n",
       "      <td>0</td>\n",
       "      <td>1</td>\n",
       "      <td>0</td>\n",
       "      <td>1</td>\n",
       "      <td>0</td>\n",
       "      <td>1</td>\n",
       "      <td>0</td>\n",
       "      <td>0</td>\n",
       "      <td>0</td>\n",
       "    </tr>\n",
       "    <tr>\n",
       "      <th>H1734</th>\n",
       "      <td>2016</td>\n",
       "      <td>1.0</td>\n",
       "      <td>1</td>\n",
       "      <td>700</td>\n",
       "      <td>1970</td>\n",
       "      <td>0</td>\n",
       "      <td>0</td>\n",
       "      <td>1</td>\n",
       "      <td>0</td>\n",
       "      <td>1</td>\n",
       "      <td>0</td>\n",
       "      <td>1</td>\n",
       "      <td>0</td>\n",
       "      <td>1</td>\n",
       "      <td>0</td>\n",
       "      <td>0</td>\n",
       "      <td>1</td>\n",
       "      <td>0</td>\n",
       "    </tr>\n",
       "    <tr>\n",
       "      <th>H14556</th>\n",
       "      <td>2014</td>\n",
       "      <td>1.0</td>\n",
       "      <td>1</td>\n",
       "      <td>3480</td>\n",
       "      <td>1970</td>\n",
       "      <td>1</td>\n",
       "      <td>1</td>\n",
       "      <td>0</td>\n",
       "      <td>0</td>\n",
       "      <td>1</td>\n",
       "      <td>0</td>\n",
       "      <td>1</td>\n",
       "      <td>0</td>\n",
       "      <td>1</td>\n",
       "      <td>0</td>\n",
       "      <td>0</td>\n",
       "      <td>0</td>\n",
       "      <td>1</td>\n",
       "    </tr>\n",
       "    <tr>\n",
       "      <th>...</th>\n",
       "      <td>...</td>\n",
       "      <td>...</td>\n",
       "      <td>...</td>\n",
       "      <td>...</td>\n",
       "      <td>...</td>\n",
       "      <td>...</td>\n",
       "      <td>...</td>\n",
       "      <td>...</td>\n",
       "      <td>...</td>\n",
       "      <td>...</td>\n",
       "      <td>...</td>\n",
       "      <td>...</td>\n",
       "      <td>...</td>\n",
       "      <td>...</td>\n",
       "      <td>...</td>\n",
       "      <td>...</td>\n",
       "      <td>...</td>\n",
       "      <td>...</td>\n",
       "    </tr>\n",
       "    <tr>\n",
       "      <th>H16503</th>\n",
       "      <td>2012</td>\n",
       "      <td>1.0</td>\n",
       "      <td>1</td>\n",
       "      <td>900</td>\n",
       "      <td>1910</td>\n",
       "      <td>1</td>\n",
       "      <td>0</td>\n",
       "      <td>1</td>\n",
       "      <td>1</td>\n",
       "      <td>0</td>\n",
       "      <td>1</td>\n",
       "      <td>0</td>\n",
       "      <td>1</td>\n",
       "      <td>0</td>\n",
       "      <td>0</td>\n",
       "      <td>0</td>\n",
       "      <td>0</td>\n",
       "      <td>1</td>\n",
       "    </tr>\n",
       "    <tr>\n",
       "      <th>H16714</th>\n",
       "      <td>2016</td>\n",
       "      <td>1.0</td>\n",
       "      <td>1</td>\n",
       "      <td>3936</td>\n",
       "      <td>2008</td>\n",
       "      <td>0</td>\n",
       "      <td>0</td>\n",
       "      <td>1</td>\n",
       "      <td>1</td>\n",
       "      <td>0</td>\n",
       "      <td>1</td>\n",
       "      <td>0</td>\n",
       "      <td>1</td>\n",
       "      <td>0</td>\n",
       "      <td>0</td>\n",
       "      <td>1</td>\n",
       "      <td>0</td>\n",
       "      <td>0</td>\n",
       "    </tr>\n",
       "    <tr>\n",
       "      <th>H4842</th>\n",
       "      <td>2012</td>\n",
       "      <td>1.0</td>\n",
       "      <td>0</td>\n",
       "      <td>4200</td>\n",
       "      <td>1967</td>\n",
       "      <td>0</td>\n",
       "      <td>0</td>\n",
       "      <td>1</td>\n",
       "      <td>1</td>\n",
       "      <td>0</td>\n",
       "      <td>1</td>\n",
       "      <td>0</td>\n",
       "      <td>1</td>\n",
       "      <td>0</td>\n",
       "      <td>0</td>\n",
       "      <td>1</td>\n",
       "      <td>0</td>\n",
       "      <td>0</td>\n",
       "    </tr>\n",
       "    <tr>\n",
       "      <th>H16085</th>\n",
       "      <td>2015</td>\n",
       "      <td>1.0</td>\n",
       "      <td>0</td>\n",
       "      <td>2250</td>\n",
       "      <td>1980</td>\n",
       "      <td>1</td>\n",
       "      <td>0</td>\n",
       "      <td>1</td>\n",
       "      <td>1</td>\n",
       "      <td>0</td>\n",
       "      <td>1</td>\n",
       "      <td>0</td>\n",
       "      <td>1</td>\n",
       "      <td>0</td>\n",
       "      <td>1</td>\n",
       "      <td>0</td>\n",
       "      <td>0</td>\n",
       "      <td>0</td>\n",
       "    </tr>\n",
       "    <tr>\n",
       "      <th>H13705</th>\n",
       "      <td>2012</td>\n",
       "      <td>1.0</td>\n",
       "      <td>0</td>\n",
       "      <td>500</td>\n",
       "      <td>1960</td>\n",
       "      <td>0</td>\n",
       "      <td>1</td>\n",
       "      <td>0</td>\n",
       "      <td>0</td>\n",
       "      <td>1</td>\n",
       "      <td>0</td>\n",
       "      <td>1</td>\n",
       "      <td>0</td>\n",
       "      <td>1</td>\n",
       "      <td>0</td>\n",
       "      <td>1</td>\n",
       "      <td>0</td>\n",
       "      <td>0</td>\n",
       "    </tr>\n",
       "  </tbody>\n",
       "</table>\n",
       "<p>5728 rows × 18 columns</p>\n",
       "</div>"
      ],
      "text/plain": [
       "             YearOfObservation  Insured_Period  Residential  \\\n",
       "Customer Id                                                   \n",
       "H19077                    2012             1.0            0   \n",
       "H19437                    2015             1.0            0   \n",
       "H17301                    2014             1.0            1   \n",
       "H1734                     2016             1.0            1   \n",
       "H14556                    2014             1.0            1   \n",
       "...                        ...             ...          ...   \n",
       "H16503                    2012             1.0            1   \n",
       "H16714                    2016             1.0            1   \n",
       "H4842                     2012             1.0            0   \n",
       "H16085                    2015             1.0            0   \n",
       "H13705                    2012             1.0            0   \n",
       "\n",
       "             Building_Dimension  Date_of_Occupancy  Claim  painted_N  \\\n",
       "Customer Id                                                            \n",
       "H19077                     1441               1961      0          0   \n",
       "H19437                     3500               2011      1          0   \n",
       "H17301                      716               2011      0          0   \n",
       "H1734                       700               1970      0          0   \n",
       "H14556                     3480               1970      1          1   \n",
       "...                         ...                ...    ...        ...   \n",
       "H16503                      900               1910      1          0   \n",
       "H16714                     3936               2008      0          0   \n",
       "H4842                      4200               1967      0          0   \n",
       "H16085                     2250               1980      1          0   \n",
       "H13705                      500               1960      0          1   \n",
       "\n",
       "             painted_V  fenced_N  fenced_V  Garden_O  Garden_V  settlement_R  \\\n",
       "Customer Id                                                                    \n",
       "H19077               1         1         0         1         0             1   \n",
       "H19437               1         1         0         1         0             1   \n",
       "H17301               1         1         0         1         0             1   \n",
       "H1734                1         0         1         0         1             0   \n",
       "H14556               0         0         1         0         1             0   \n",
       "...                ...       ...       ...       ...       ...           ...   \n",
       "H16503               1         1         0         1         0             1   \n",
       "H16714               1         1         0         1         0             1   \n",
       "H4842                1         1         0         1         0             1   \n",
       "H16085               1         1         0         1         0             1   \n",
       "H13705               0         0         1         0         1             0   \n",
       "\n",
       "             settlement_U  type_1  type_2  type_3  type_4  \n",
       "Customer Id                                                \n",
       "H19077                  0       1       0       0       0  \n",
       "H19437                  0       0       1       0       0  \n",
       "H17301                  0       1       0       0       0  \n",
       "H1734                   1       0       0       1       0  \n",
       "H14556                  1       0       0       0       1  \n",
       "...                   ...     ...     ...     ...     ...  \n",
       "H16503                  0       0       0       0       1  \n",
       "H16714                  0       0       1       0       0  \n",
       "H4842                   0       0       1       0       0  \n",
       "H16085                  0       1       0       0       0  \n",
       "H13705                  1       0       1       0       0  \n",
       "\n",
       "[5728 rows x 18 columns]"
      ]
     },
     "execution_count": 77,
     "metadata": {},
     "output_type": "execute_result"
    }
   ],
   "source": [
    "train_copy"
   ]
  },
  {
   "cell_type": "code",
   "execution_count": 79,
   "metadata": {},
   "outputs": [],
   "source": [
    "from sklearn.model_selection import cross_val_score, cross_val_predict\n",
    "from sklearn.tree import DecisionTreeClassifier\n",
    "from sklearn.ensemble import RandomForestClassifier\n",
    "from sklearn.metrics import classification_report, accuracy_score, confusion_matrix \n",
    "from sklearn.neighbors import KNeighborsClassifier"
   ]
  },
  {
   "cell_type": "code",
   "execution_count": 80,
   "metadata": {},
   "outputs": [],
   "source": [
    "x = train_copy.drop(columns = 'Claim')\n",
    "y = train_copy['Claim']"
   ]
  },
  {
   "cell_type": "code",
   "execution_count": 81,
   "metadata": {},
   "outputs": [],
   "source": [
    "tree = DecisionTreeClassifier()\n",
    "knn = KNeighborsClassifier()\n",
    "rf = RandomForestClassifier()"
   ]
  },
  {
   "cell_type": "code",
   "execution_count": 82,
   "metadata": {},
   "outputs": [
    {
     "data": {
      "text/plain": [
       "0.7465044118185479"
      ]
     },
     "execution_count": 82,
     "metadata": {},
     "output_type": "execute_result"
    }
   ],
   "source": [
    "accuracy = cross_val_score(estimator=rf,X=x,y=y, cv=10, scoring='accuracy')\n",
    "accuracy.mean()"
   ]
  },
  {
   "cell_type": "code",
   "execution_count": 83,
   "metadata": {},
   "outputs": [
    {
     "data": {
      "text/plain": [
       "0.6897643368847557"
      ]
     },
     "execution_count": 83,
     "metadata": {},
     "output_type": "execute_result"
    }
   ],
   "source": [
    "accuracy = cross_val_score(estimator=tree,X=x,y=y, cv=10, scoring='accuracy')\n",
    "accuracy.mean()"
   ]
  },
  {
   "cell_type": "code",
   "execution_count": 84,
   "metadata": {},
   "outputs": [
    {
     "data": {
      "text/plain": [
       "0.7484290142667106"
      ]
     },
     "execution_count": 84,
     "metadata": {},
     "output_type": "execute_result"
    }
   ],
   "source": [
    "accuracy = cross_val_score(estimator=knn,X=x,y=y, cv=10, scoring='accuracy')\n",
    "accuracy.mean()"
   ]
  },
  {
   "cell_type": "code",
   "execution_count": null,
   "metadata": {},
   "outputs": [],
   "source": []
  }
 ],
 "metadata": {
  "kernelspec": {
   "display_name": "Python 3",
   "language": "python",
   "name": "python3"
  },
  "language_info": {
   "codemirror_mode": {
    "name": "ipython",
    "version": 3
   },
   "file_extension": ".py",
   "mimetype": "text/x-python",
   "name": "python",
   "nbconvert_exporter": "python",
   "pygments_lexer": "ipython3",
   "version": "3.8.3"
  }
 },
 "nbformat": 4,
 "nbformat_minor": 4
}
